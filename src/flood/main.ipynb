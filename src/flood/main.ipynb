{
 "cells": [
  {
   "cell_type": "code",
   "execution_count": 1,
   "metadata": {},
   "outputs": [],
   "source": [
    "import warnings\n",
    "warnings.filterwarnings('ignore')"
   ]
  },
  {
   "cell_type": "code",
   "execution_count": 2,
   "metadata": {},
   "outputs": [
    {
     "name": "stdout",
     "output_type": "stream",
     "text": [
      "    SUBDIVISION  YEAR   JAN   FEB   MAR    APR    MAY     JUN     JUL     AUG  \\\n",
      "0        KERALA  1901  28.7  44.7  51.6  160.0  174.7   824.6   743.0   357.5   \n",
      "1        KERALA  1902   6.7   2.6  57.3   83.9  134.5   390.9  1205.0   315.8   \n",
      "2        KERALA  1903   3.2  18.6   3.1   83.6  249.7   558.6  1022.5   420.2   \n",
      "3        KERALA  1904  23.7   3.0  32.2   71.5  235.7  1098.2   725.5   351.8   \n",
      "4        KERALA  1905   1.2  22.3   9.4  105.9  263.3   850.2   520.5   293.6   \n",
      "..          ...   ...   ...   ...   ...    ...    ...     ...     ...     ...   \n",
      "113      KERALA  2014   4.6  10.3  17.9   95.7  251.0   454.4   677.8   733.9   \n",
      "114      KERALA  2015   3.1   5.8  50.1  214.1  201.8   563.6   406.0   252.2   \n",
      "115      KERALA  2016   2.4   3.8  35.9  143.0  186.4   522.2   412.3   325.5   \n",
      "116     KERALA   2017   1.9   6.8   8.9   43.6  173.5   498.5   319.6   531.8   \n",
      "117      KERALA  2018  29.1  52.1  48.6  116.4  183.8   625.4  1048.5  1398.9   \n",
      "\n",
      "       SEP    OCT    NOV    DEC   ANNUAL RAINFALL FLOODS  \n",
      "0    197.7  266.9  350.8   48.4            3248.6    YES  \n",
      "1    491.6  358.4  158.3  121.5            3326.6    YES  \n",
      "2    341.8  354.1  157.0   59.0            3271.2    YES  \n",
      "3    222.7  328.1   33.9    3.3            3129.7    YES  \n",
      "4    217.2  383.5   74.4    0.2            2741.6     NO  \n",
      "..     ...    ...    ...    ...               ...    ...  \n",
      "113  298.8  355.5   99.5   47.2            3046.4    YES  \n",
      "114  292.9  308.1  223.6   79.4            2600.6     NO  \n",
      "115  173.2  225.9  125.4   23.6            2176.6     NO  \n",
      "116  209.5  192.4   92.5   38.1            2117.1     NO  \n",
      "117  423.6  356.1  125.4   65.1            4473.0    YES  \n",
      "\n",
      "[118 rows x 16 columns]\n"
     ]
    }
   ],
   "source": [
    "import numpy as np\n",
    "import pandas as pd\n",
    "data = pd.read_csv('../data/kerala.csv')\n",
    "print(data)"
   ]
  },
  {
   "cell_type": "code",
   "execution_count": 3,
   "metadata": {},
   "outputs": [
    {
     "data": {
      "text/html": [
       "<div>\n",
       "<style scoped>\n",
       "    .dataframe tbody tr th:only-of-type {\n",
       "        vertical-align: middle;\n",
       "    }\n",
       "\n",
       "    .dataframe tbody tr th {\n",
       "        vertical-align: top;\n",
       "    }\n",
       "\n",
       "    .dataframe thead th {\n",
       "        text-align: right;\n",
       "    }\n",
       "</style>\n",
       "<table border=\"1\" class=\"dataframe\">\n",
       "  <thead>\n",
       "    <tr style=\"text-align: right;\">\n",
       "      <th></th>\n",
       "      <th>SUBDIVISION</th>\n",
       "      <th>YEAR</th>\n",
       "      <th>JAN</th>\n",
       "      <th>FEB</th>\n",
       "      <th>MAR</th>\n",
       "      <th>APR</th>\n",
       "      <th>MAY</th>\n",
       "      <th>JUN</th>\n",
       "      <th>JUL</th>\n",
       "      <th>AUG</th>\n",
       "      <th>SEP</th>\n",
       "      <th>OCT</th>\n",
       "      <th>NOV</th>\n",
       "      <th>DEC</th>\n",
       "      <th>ANNUAL RAINFALL</th>\n",
       "      <th>FLOODS</th>\n",
       "    </tr>\n",
       "  </thead>\n",
       "  <tbody>\n",
       "    <tr>\n",
       "      <th>0</th>\n",
       "      <td>KERALA</td>\n",
       "      <td>1901</td>\n",
       "      <td>28.7</td>\n",
       "      <td>44.7</td>\n",
       "      <td>51.6</td>\n",
       "      <td>160.0</td>\n",
       "      <td>174.7</td>\n",
       "      <td>824.6</td>\n",
       "      <td>743.0</td>\n",
       "      <td>357.5</td>\n",
       "      <td>197.7</td>\n",
       "      <td>266.9</td>\n",
       "      <td>350.8</td>\n",
       "      <td>48.4</td>\n",
       "      <td>3248.6</td>\n",
       "      <td>YES</td>\n",
       "    </tr>\n",
       "    <tr>\n",
       "      <th>1</th>\n",
       "      <td>KERALA</td>\n",
       "      <td>1902</td>\n",
       "      <td>6.7</td>\n",
       "      <td>2.6</td>\n",
       "      <td>57.3</td>\n",
       "      <td>83.9</td>\n",
       "      <td>134.5</td>\n",
       "      <td>390.9</td>\n",
       "      <td>1205.0</td>\n",
       "      <td>315.8</td>\n",
       "      <td>491.6</td>\n",
       "      <td>358.4</td>\n",
       "      <td>158.3</td>\n",
       "      <td>121.5</td>\n",
       "      <td>3326.6</td>\n",
       "      <td>YES</td>\n",
       "    </tr>\n",
       "    <tr>\n",
       "      <th>2</th>\n",
       "      <td>KERALA</td>\n",
       "      <td>1903</td>\n",
       "      <td>3.2</td>\n",
       "      <td>18.6</td>\n",
       "      <td>3.1</td>\n",
       "      <td>83.6</td>\n",
       "      <td>249.7</td>\n",
       "      <td>558.6</td>\n",
       "      <td>1022.5</td>\n",
       "      <td>420.2</td>\n",
       "      <td>341.8</td>\n",
       "      <td>354.1</td>\n",
       "      <td>157.0</td>\n",
       "      <td>59.0</td>\n",
       "      <td>3271.2</td>\n",
       "      <td>YES</td>\n",
       "    </tr>\n",
       "    <tr>\n",
       "      <th>3</th>\n",
       "      <td>KERALA</td>\n",
       "      <td>1904</td>\n",
       "      <td>23.7</td>\n",
       "      <td>3.0</td>\n",
       "      <td>32.2</td>\n",
       "      <td>71.5</td>\n",
       "      <td>235.7</td>\n",
       "      <td>1098.2</td>\n",
       "      <td>725.5</td>\n",
       "      <td>351.8</td>\n",
       "      <td>222.7</td>\n",
       "      <td>328.1</td>\n",
       "      <td>33.9</td>\n",
       "      <td>3.3</td>\n",
       "      <td>3129.7</td>\n",
       "      <td>YES</td>\n",
       "    </tr>\n",
       "    <tr>\n",
       "      <th>4</th>\n",
       "      <td>KERALA</td>\n",
       "      <td>1905</td>\n",
       "      <td>1.2</td>\n",
       "      <td>22.3</td>\n",
       "      <td>9.4</td>\n",
       "      <td>105.9</td>\n",
       "      <td>263.3</td>\n",
       "      <td>850.2</td>\n",
       "      <td>520.5</td>\n",
       "      <td>293.6</td>\n",
       "      <td>217.2</td>\n",
       "      <td>383.5</td>\n",
       "      <td>74.4</td>\n",
       "      <td>0.2</td>\n",
       "      <td>2741.6</td>\n",
       "      <td>NO</td>\n",
       "    </tr>\n",
       "  </tbody>\n",
       "</table>\n",
       "</div>"
      ],
      "text/plain": [
       "  SUBDIVISION  YEAR   JAN   FEB   MAR    APR    MAY     JUN     JUL    AUG  \\\n",
       "0      KERALA  1901  28.7  44.7  51.6  160.0  174.7   824.6   743.0  357.5   \n",
       "1      KERALA  1902   6.7   2.6  57.3   83.9  134.5   390.9  1205.0  315.8   \n",
       "2      KERALA  1903   3.2  18.6   3.1   83.6  249.7   558.6  1022.5  420.2   \n",
       "3      KERALA  1904  23.7   3.0  32.2   71.5  235.7  1098.2   725.5  351.8   \n",
       "4      KERALA  1905   1.2  22.3   9.4  105.9  263.3   850.2   520.5  293.6   \n",
       "\n",
       "     SEP    OCT    NOV    DEC   ANNUAL RAINFALL FLOODS  \n",
       "0  197.7  266.9  350.8   48.4            3248.6    YES  \n",
       "1  491.6  358.4  158.3  121.5            3326.6    YES  \n",
       "2  341.8  354.1  157.0   59.0            3271.2    YES  \n",
       "3  222.7  328.1   33.9    3.3            3129.7    YES  \n",
       "4  217.2  383.5   74.4    0.2            2741.6     NO  "
      ]
     },
     "execution_count": 3,
     "metadata": {},
     "output_type": "execute_result"
    }
   ],
   "source": [
    "data.head()"
   ]
  },
  {
   "cell_type": "code",
   "execution_count": 4,
   "metadata": {},
   "outputs": [
    {
     "data": {
      "text/html": [
       "<div>\n",
       "<style scoped>\n",
       "    .dataframe tbody tr th:only-of-type {\n",
       "        vertical-align: middle;\n",
       "    }\n",
       "\n",
       "    .dataframe tbody tr th {\n",
       "        vertical-align: top;\n",
       "    }\n",
       "\n",
       "    .dataframe thead th {\n",
       "        text-align: right;\n",
       "    }\n",
       "</style>\n",
       "<table border=\"1\" class=\"dataframe\">\n",
       "  <thead>\n",
       "    <tr style=\"text-align: right;\">\n",
       "      <th></th>\n",
       "      <th>SUBDIVISION</th>\n",
       "      <th>YEAR</th>\n",
       "      <th>JAN</th>\n",
       "      <th>FEB</th>\n",
       "      <th>MAR</th>\n",
       "      <th>APR</th>\n",
       "      <th>MAY</th>\n",
       "      <th>JUN</th>\n",
       "      <th>JUL</th>\n",
       "      <th>AUG</th>\n",
       "      <th>SEP</th>\n",
       "      <th>OCT</th>\n",
       "      <th>NOV</th>\n",
       "      <th>DEC</th>\n",
       "      <th>ANNUAL RAINFALL</th>\n",
       "      <th>FLOODS</th>\n",
       "    </tr>\n",
       "  </thead>\n",
       "  <tbody>\n",
       "    <tr>\n",
       "      <th>113</th>\n",
       "      <td>KERALA</td>\n",
       "      <td>2014</td>\n",
       "      <td>4.6</td>\n",
       "      <td>10.3</td>\n",
       "      <td>17.9</td>\n",
       "      <td>95.7</td>\n",
       "      <td>251.0</td>\n",
       "      <td>454.4</td>\n",
       "      <td>677.8</td>\n",
       "      <td>733.9</td>\n",
       "      <td>298.8</td>\n",
       "      <td>355.5</td>\n",
       "      <td>99.5</td>\n",
       "      <td>47.2</td>\n",
       "      <td>3046.4</td>\n",
       "      <td>YES</td>\n",
       "    </tr>\n",
       "    <tr>\n",
       "      <th>114</th>\n",
       "      <td>KERALA</td>\n",
       "      <td>2015</td>\n",
       "      <td>3.1</td>\n",
       "      <td>5.8</td>\n",
       "      <td>50.1</td>\n",
       "      <td>214.1</td>\n",
       "      <td>201.8</td>\n",
       "      <td>563.6</td>\n",
       "      <td>406.0</td>\n",
       "      <td>252.2</td>\n",
       "      <td>292.9</td>\n",
       "      <td>308.1</td>\n",
       "      <td>223.6</td>\n",
       "      <td>79.4</td>\n",
       "      <td>2600.6</td>\n",
       "      <td>NO</td>\n",
       "    </tr>\n",
       "    <tr>\n",
       "      <th>115</th>\n",
       "      <td>KERALA</td>\n",
       "      <td>2016</td>\n",
       "      <td>2.4</td>\n",
       "      <td>3.8</td>\n",
       "      <td>35.9</td>\n",
       "      <td>143.0</td>\n",
       "      <td>186.4</td>\n",
       "      <td>522.2</td>\n",
       "      <td>412.3</td>\n",
       "      <td>325.5</td>\n",
       "      <td>173.2</td>\n",
       "      <td>225.9</td>\n",
       "      <td>125.4</td>\n",
       "      <td>23.6</td>\n",
       "      <td>2176.6</td>\n",
       "      <td>NO</td>\n",
       "    </tr>\n",
       "    <tr>\n",
       "      <th>116</th>\n",
       "      <td>KERALA</td>\n",
       "      <td>2017</td>\n",
       "      <td>1.9</td>\n",
       "      <td>6.8</td>\n",
       "      <td>8.9</td>\n",
       "      <td>43.6</td>\n",
       "      <td>173.5</td>\n",
       "      <td>498.5</td>\n",
       "      <td>319.6</td>\n",
       "      <td>531.8</td>\n",
       "      <td>209.5</td>\n",
       "      <td>192.4</td>\n",
       "      <td>92.5</td>\n",
       "      <td>38.1</td>\n",
       "      <td>2117.1</td>\n",
       "      <td>NO</td>\n",
       "    </tr>\n",
       "    <tr>\n",
       "      <th>117</th>\n",
       "      <td>KERALA</td>\n",
       "      <td>2018</td>\n",
       "      <td>29.1</td>\n",
       "      <td>52.1</td>\n",
       "      <td>48.6</td>\n",
       "      <td>116.4</td>\n",
       "      <td>183.8</td>\n",
       "      <td>625.4</td>\n",
       "      <td>1048.5</td>\n",
       "      <td>1398.9</td>\n",
       "      <td>423.6</td>\n",
       "      <td>356.1</td>\n",
       "      <td>125.4</td>\n",
       "      <td>65.1</td>\n",
       "      <td>4473.0</td>\n",
       "      <td>YES</td>\n",
       "    </tr>\n",
       "  </tbody>\n",
       "</table>\n",
       "</div>"
      ],
      "text/plain": [
       "    SUBDIVISION  YEAR   JAN   FEB   MAR    APR    MAY    JUN     JUL     AUG  \\\n",
       "113      KERALA  2014   4.6  10.3  17.9   95.7  251.0  454.4   677.8   733.9   \n",
       "114      KERALA  2015   3.1   5.8  50.1  214.1  201.8  563.6   406.0   252.2   \n",
       "115      KERALA  2016   2.4   3.8  35.9  143.0  186.4  522.2   412.3   325.5   \n",
       "116     KERALA   2017   1.9   6.8   8.9   43.6  173.5  498.5   319.6   531.8   \n",
       "117      KERALA  2018  29.1  52.1  48.6  116.4  183.8  625.4  1048.5  1398.9   \n",
       "\n",
       "       SEP    OCT    NOV   DEC   ANNUAL RAINFALL FLOODS  \n",
       "113  298.8  355.5   99.5  47.2            3046.4    YES  \n",
       "114  292.9  308.1  223.6  79.4            2600.6     NO  \n",
       "115  173.2  225.9  125.4  23.6            2176.6     NO  \n",
       "116  209.5  192.4   92.5  38.1            2117.1     NO  \n",
       "117  423.6  356.1  125.4  65.1            4473.0    YES  "
      ]
     },
     "execution_count": 4,
     "metadata": {},
     "output_type": "execute_result"
    }
   ],
   "source": [
    "data.tail()"
   ]
  },
  {
   "cell_type": "code",
   "execution_count": 5,
   "metadata": {},
   "outputs": [
    {
     "data": {
      "text/plain": [
       "SUBDIVISION         0\n",
       "YEAR                0\n",
       "JAN                 0\n",
       "FEB                 0\n",
       "MAR                 0\n",
       "APR                 0\n",
       "MAY                 0\n",
       "JUN                 0\n",
       "JUL                 0\n",
       "AUG                 0\n",
       "SEP                 0\n",
       "OCT                 0\n",
       "NOV                 0\n",
       "DEC                 0\n",
       " ANNUAL RAINFALL    0\n",
       "FLOODS              0\n",
       "dtype: int64"
      ]
     },
     "execution_count": 5,
     "metadata": {},
     "output_type": "execute_result"
    }
   ],
   "source": [
    "data.isnull().sum()"
   ]
  },
  {
   "cell_type": "markdown",
   "metadata": {},
   "source": [
    "# Analyzing the Dataset"
   ]
  },
  {
   "cell_type": "code",
   "execution_count": 6,
   "metadata": {},
   "outputs": [
    {
     "name": "stdout",
     "output_type": "stream",
     "text": [
      "(118, 16)\n"
     ]
    }
   ],
   "source": [
    "print(data.shape)"
   ]
  },
  {
   "cell_type": "code",
   "execution_count": 7,
   "metadata": {},
   "outputs": [
    {
     "data": {
      "text/html": [
       "<div>\n",
       "<style scoped>\n",
       "    .dataframe tbody tr th:only-of-type {\n",
       "        vertical-align: middle;\n",
       "    }\n",
       "\n",
       "    .dataframe tbody tr th {\n",
       "        vertical-align: top;\n",
       "    }\n",
       "\n",
       "    .dataframe thead th {\n",
       "        text-align: right;\n",
       "    }\n",
       "</style>\n",
       "<table border=\"1\" class=\"dataframe\">\n",
       "  <thead>\n",
       "    <tr style=\"text-align: right;\">\n",
       "      <th></th>\n",
       "      <th>YEAR</th>\n",
       "      <th>JAN</th>\n",
       "      <th>FEB</th>\n",
       "      <th>MAR</th>\n",
       "      <th>APR</th>\n",
       "      <th>MAY</th>\n",
       "      <th>JUN</th>\n",
       "      <th>JUL</th>\n",
       "      <th>AUG</th>\n",
       "      <th>SEP</th>\n",
       "      <th>OCT</th>\n",
       "      <th>NOV</th>\n",
       "      <th>DEC</th>\n",
       "      <th>ANNUAL RAINFALL</th>\n",
       "    </tr>\n",
       "  </thead>\n",
       "  <tbody>\n",
       "    <tr>\n",
       "      <th>count</th>\n",
       "      <td>118.000000</td>\n",
       "      <td>118.000000</td>\n",
       "      <td>118.000000</td>\n",
       "      <td>118.000000</td>\n",
       "      <td>118.000000</td>\n",
       "      <td>118.000000</td>\n",
       "      <td>118.000000</td>\n",
       "      <td>118.000000</td>\n",
       "      <td>118.000000</td>\n",
       "      <td>118.000000</td>\n",
       "      <td>118.000000</td>\n",
       "      <td>118.000000</td>\n",
       "      <td>118.000000</td>\n",
       "      <td>118.000000</td>\n",
       "    </tr>\n",
       "    <tr>\n",
       "      <th>mean</th>\n",
       "      <td>1959.500000</td>\n",
       "      <td>12.218644</td>\n",
       "      <td>15.633898</td>\n",
       "      <td>36.670339</td>\n",
       "      <td>110.330508</td>\n",
       "      <td>228.644915</td>\n",
       "      <td>651.617797</td>\n",
       "      <td>698.220339</td>\n",
       "      <td>430.369492</td>\n",
       "      <td>246.207627</td>\n",
       "      <td>293.207627</td>\n",
       "      <td>162.311017</td>\n",
       "      <td>40.009322</td>\n",
       "      <td>2925.405085</td>\n",
       "    </tr>\n",
       "    <tr>\n",
       "      <th>std</th>\n",
       "      <td>34.207699</td>\n",
       "      <td>15.473766</td>\n",
       "      <td>16.406290</td>\n",
       "      <td>30.063862</td>\n",
       "      <td>44.633452</td>\n",
       "      <td>147.548778</td>\n",
       "      <td>186.181363</td>\n",
       "      <td>228.988966</td>\n",
       "      <td>181.980463</td>\n",
       "      <td>121.901131</td>\n",
       "      <td>93.705253</td>\n",
       "      <td>83.200485</td>\n",
       "      <td>36.676330</td>\n",
       "      <td>452.169407</td>\n",
       "    </tr>\n",
       "    <tr>\n",
       "      <th>min</th>\n",
       "      <td>1901.000000</td>\n",
       "      <td>0.000000</td>\n",
       "      <td>0.000000</td>\n",
       "      <td>0.100000</td>\n",
       "      <td>13.100000</td>\n",
       "      <td>53.400000</td>\n",
       "      <td>196.800000</td>\n",
       "      <td>167.500000</td>\n",
       "      <td>178.600000</td>\n",
       "      <td>41.300000</td>\n",
       "      <td>68.500000</td>\n",
       "      <td>31.500000</td>\n",
       "      <td>0.100000</td>\n",
       "      <td>2068.800000</td>\n",
       "    </tr>\n",
       "    <tr>\n",
       "      <th>25%</th>\n",
       "      <td>1930.250000</td>\n",
       "      <td>2.175000</td>\n",
       "      <td>4.700000</td>\n",
       "      <td>18.100000</td>\n",
       "      <td>74.350000</td>\n",
       "      <td>125.050000</td>\n",
       "      <td>535.550000</td>\n",
       "      <td>533.200000</td>\n",
       "      <td>316.725000</td>\n",
       "      <td>155.425000</td>\n",
       "      <td>222.125000</td>\n",
       "      <td>93.025000</td>\n",
       "      <td>10.350000</td>\n",
       "      <td>2613.525000</td>\n",
       "    </tr>\n",
       "    <tr>\n",
       "      <th>50%</th>\n",
       "      <td>1959.500000</td>\n",
       "      <td>5.800000</td>\n",
       "      <td>8.350000</td>\n",
       "      <td>28.400000</td>\n",
       "      <td>110.400000</td>\n",
       "      <td>184.600000</td>\n",
       "      <td>625.600000</td>\n",
       "      <td>691.650000</td>\n",
       "      <td>386.250000</td>\n",
       "      <td>223.550000</td>\n",
       "      <td>284.300000</td>\n",
       "      <td>152.450000</td>\n",
       "      <td>31.100000</td>\n",
       "      <td>2934.300000</td>\n",
       "    </tr>\n",
       "    <tr>\n",
       "      <th>75%</th>\n",
       "      <td>1988.750000</td>\n",
       "      <td>18.175000</td>\n",
       "      <td>21.400000</td>\n",
       "      <td>49.825000</td>\n",
       "      <td>136.450000</td>\n",
       "      <td>264.875000</td>\n",
       "      <td>786.975000</td>\n",
       "      <td>832.425000</td>\n",
       "      <td>500.100000</td>\n",
       "      <td>334.500000</td>\n",
       "      <td>355.150000</td>\n",
       "      <td>218.325000</td>\n",
       "      <td>54.025000</td>\n",
       "      <td>3170.400000</td>\n",
       "    </tr>\n",
       "    <tr>\n",
       "      <th>max</th>\n",
       "      <td>2018.000000</td>\n",
       "      <td>83.500000</td>\n",
       "      <td>79.000000</td>\n",
       "      <td>217.200000</td>\n",
       "      <td>238.000000</td>\n",
       "      <td>738.800000</td>\n",
       "      <td>1098.200000</td>\n",
       "      <td>1526.500000</td>\n",
       "      <td>1398.900000</td>\n",
       "      <td>526.700000</td>\n",
       "      <td>567.900000</td>\n",
       "      <td>365.600000</td>\n",
       "      <td>202.300000</td>\n",
       "      <td>4473.000000</td>\n",
       "    </tr>\n",
       "  </tbody>\n",
       "</table>\n",
       "</div>"
      ],
      "text/plain": [
       "              YEAR         JAN         FEB         MAR         APR  \\\n",
       "count   118.000000  118.000000  118.000000  118.000000  118.000000   \n",
       "mean   1959.500000   12.218644   15.633898   36.670339  110.330508   \n",
       "std      34.207699   15.473766   16.406290   30.063862   44.633452   \n",
       "min    1901.000000    0.000000    0.000000    0.100000   13.100000   \n",
       "25%    1930.250000    2.175000    4.700000   18.100000   74.350000   \n",
       "50%    1959.500000    5.800000    8.350000   28.400000  110.400000   \n",
       "75%    1988.750000   18.175000   21.400000   49.825000  136.450000   \n",
       "max    2018.000000   83.500000   79.000000  217.200000  238.000000   \n",
       "\n",
       "              MAY          JUN          JUL          AUG         SEP  \\\n",
       "count  118.000000   118.000000   118.000000   118.000000  118.000000   \n",
       "mean   228.644915   651.617797   698.220339   430.369492  246.207627   \n",
       "std    147.548778   186.181363   228.988966   181.980463  121.901131   \n",
       "min     53.400000   196.800000   167.500000   178.600000   41.300000   \n",
       "25%    125.050000   535.550000   533.200000   316.725000  155.425000   \n",
       "50%    184.600000   625.600000   691.650000   386.250000  223.550000   \n",
       "75%    264.875000   786.975000   832.425000   500.100000  334.500000   \n",
       "max    738.800000  1098.200000  1526.500000  1398.900000  526.700000   \n",
       "\n",
       "              OCT         NOV         DEC   ANNUAL RAINFALL  \n",
       "count  118.000000  118.000000  118.000000        118.000000  \n",
       "mean   293.207627  162.311017   40.009322       2925.405085  \n",
       "std     93.705253   83.200485   36.676330        452.169407  \n",
       "min     68.500000   31.500000    0.100000       2068.800000  \n",
       "25%    222.125000   93.025000   10.350000       2613.525000  \n",
       "50%    284.300000  152.450000   31.100000       2934.300000  \n",
       "75%    355.150000  218.325000   54.025000       3170.400000  \n",
       "max    567.900000  365.600000  202.300000       4473.000000  "
      ]
     },
     "execution_count": 7,
     "metadata": {},
     "output_type": "execute_result"
    }
   ],
   "source": [
    "data.describe()"
   ]
  },
  {
   "cell_type": "code",
   "execution_count": 8,
   "metadata": {},
   "outputs": [
    {
     "data": {
      "text/plain": [
       "<bound method DataFrame.info of     SUBDIVISION  YEAR   JAN   FEB   MAR    APR    MAY     JUN     JUL     AUG  \\\n",
       "0        KERALA  1901  28.7  44.7  51.6  160.0  174.7   824.6   743.0   357.5   \n",
       "1        KERALA  1902   6.7   2.6  57.3   83.9  134.5   390.9  1205.0   315.8   \n",
       "2        KERALA  1903   3.2  18.6   3.1   83.6  249.7   558.6  1022.5   420.2   \n",
       "3        KERALA  1904  23.7   3.0  32.2   71.5  235.7  1098.2   725.5   351.8   \n",
       "4        KERALA  1905   1.2  22.3   9.4  105.9  263.3   850.2   520.5   293.6   \n",
       "..          ...   ...   ...   ...   ...    ...    ...     ...     ...     ...   \n",
       "113      KERALA  2014   4.6  10.3  17.9   95.7  251.0   454.4   677.8   733.9   \n",
       "114      KERALA  2015   3.1   5.8  50.1  214.1  201.8   563.6   406.0   252.2   \n",
       "115      KERALA  2016   2.4   3.8  35.9  143.0  186.4   522.2   412.3   325.5   \n",
       "116     KERALA   2017   1.9   6.8   8.9   43.6  173.5   498.5   319.6   531.8   \n",
       "117      KERALA  2018  29.1  52.1  48.6  116.4  183.8   625.4  1048.5  1398.9   \n",
       "\n",
       "       SEP    OCT    NOV    DEC   ANNUAL RAINFALL FLOODS  \n",
       "0    197.7  266.9  350.8   48.4            3248.6    YES  \n",
       "1    491.6  358.4  158.3  121.5            3326.6    YES  \n",
       "2    341.8  354.1  157.0   59.0            3271.2    YES  \n",
       "3    222.7  328.1   33.9    3.3            3129.7    YES  \n",
       "4    217.2  383.5   74.4    0.2            2741.6     NO  \n",
       "..     ...    ...    ...    ...               ...    ...  \n",
       "113  298.8  355.5   99.5   47.2            3046.4    YES  \n",
       "114  292.9  308.1  223.6   79.4            2600.6     NO  \n",
       "115  173.2  225.9  125.4   23.6            2176.6     NO  \n",
       "116  209.5  192.4   92.5   38.1            2117.1     NO  \n",
       "117  423.6  356.1  125.4   65.1            4473.0    YES  \n",
       "\n",
       "[118 rows x 16 columns]>"
      ]
     },
     "execution_count": 8,
     "metadata": {},
     "output_type": "execute_result"
    }
   ],
   "source": [
    "data.info"
   ]
  },
  {
   "cell_type": "code",
   "execution_count": 9,
   "metadata": {},
   "outputs": [],
   "source": [
    "data['FLOODS'].replace(['YES','NO'],[1,0],inplace=True)"
   ]
  },
  {
   "cell_type": "code",
   "execution_count": 10,
   "metadata": {},
   "outputs": [
    {
     "data": {
      "text/html": [
       "<div>\n",
       "<style scoped>\n",
       "    .dataframe tbody tr th:only-of-type {\n",
       "        vertical-align: middle;\n",
       "    }\n",
       "\n",
       "    .dataframe tbody tr th {\n",
       "        vertical-align: top;\n",
       "    }\n",
       "\n",
       "    .dataframe thead th {\n",
       "        text-align: right;\n",
       "    }\n",
       "</style>\n",
       "<table border=\"1\" class=\"dataframe\">\n",
       "  <thead>\n",
       "    <tr style=\"text-align: right;\">\n",
       "      <th></th>\n",
       "      <th>SUBDIVISION</th>\n",
       "      <th>YEAR</th>\n",
       "      <th>JAN</th>\n",
       "      <th>FEB</th>\n",
       "      <th>MAR</th>\n",
       "      <th>APR</th>\n",
       "      <th>MAY</th>\n",
       "      <th>JUN</th>\n",
       "      <th>JUL</th>\n",
       "      <th>AUG</th>\n",
       "      <th>SEP</th>\n",
       "      <th>OCT</th>\n",
       "      <th>NOV</th>\n",
       "      <th>DEC</th>\n",
       "      <th>ANNUAL RAINFALL</th>\n",
       "      <th>FLOODS</th>\n",
       "    </tr>\n",
       "  </thead>\n",
       "  <tbody>\n",
       "    <tr>\n",
       "      <th>0</th>\n",
       "      <td>KERALA</td>\n",
       "      <td>1901</td>\n",
       "      <td>28.7</td>\n",
       "      <td>44.7</td>\n",
       "      <td>51.6</td>\n",
       "      <td>160.0</td>\n",
       "      <td>174.7</td>\n",
       "      <td>824.6</td>\n",
       "      <td>743.0</td>\n",
       "      <td>357.5</td>\n",
       "      <td>197.7</td>\n",
       "      <td>266.9</td>\n",
       "      <td>350.8</td>\n",
       "      <td>48.4</td>\n",
       "      <td>3248.6</td>\n",
       "      <td>1</td>\n",
       "    </tr>\n",
       "    <tr>\n",
       "      <th>1</th>\n",
       "      <td>KERALA</td>\n",
       "      <td>1902</td>\n",
       "      <td>6.7</td>\n",
       "      <td>2.6</td>\n",
       "      <td>57.3</td>\n",
       "      <td>83.9</td>\n",
       "      <td>134.5</td>\n",
       "      <td>390.9</td>\n",
       "      <td>1205.0</td>\n",
       "      <td>315.8</td>\n",
       "      <td>491.6</td>\n",
       "      <td>358.4</td>\n",
       "      <td>158.3</td>\n",
       "      <td>121.5</td>\n",
       "      <td>3326.6</td>\n",
       "      <td>1</td>\n",
       "    </tr>\n",
       "    <tr>\n",
       "      <th>2</th>\n",
       "      <td>KERALA</td>\n",
       "      <td>1903</td>\n",
       "      <td>3.2</td>\n",
       "      <td>18.6</td>\n",
       "      <td>3.1</td>\n",
       "      <td>83.6</td>\n",
       "      <td>249.7</td>\n",
       "      <td>558.6</td>\n",
       "      <td>1022.5</td>\n",
       "      <td>420.2</td>\n",
       "      <td>341.8</td>\n",
       "      <td>354.1</td>\n",
       "      <td>157.0</td>\n",
       "      <td>59.0</td>\n",
       "      <td>3271.2</td>\n",
       "      <td>1</td>\n",
       "    </tr>\n",
       "    <tr>\n",
       "      <th>3</th>\n",
       "      <td>KERALA</td>\n",
       "      <td>1904</td>\n",
       "      <td>23.7</td>\n",
       "      <td>3.0</td>\n",
       "      <td>32.2</td>\n",
       "      <td>71.5</td>\n",
       "      <td>235.7</td>\n",
       "      <td>1098.2</td>\n",
       "      <td>725.5</td>\n",
       "      <td>351.8</td>\n",
       "      <td>222.7</td>\n",
       "      <td>328.1</td>\n",
       "      <td>33.9</td>\n",
       "      <td>3.3</td>\n",
       "      <td>3129.7</td>\n",
       "      <td>1</td>\n",
       "    </tr>\n",
       "    <tr>\n",
       "      <th>4</th>\n",
       "      <td>KERALA</td>\n",
       "      <td>1905</td>\n",
       "      <td>1.2</td>\n",
       "      <td>22.3</td>\n",
       "      <td>9.4</td>\n",
       "      <td>105.9</td>\n",
       "      <td>263.3</td>\n",
       "      <td>850.2</td>\n",
       "      <td>520.5</td>\n",
       "      <td>293.6</td>\n",
       "      <td>217.2</td>\n",
       "      <td>383.5</td>\n",
       "      <td>74.4</td>\n",
       "      <td>0.2</td>\n",
       "      <td>2741.6</td>\n",
       "      <td>0</td>\n",
       "    </tr>\n",
       "  </tbody>\n",
       "</table>\n",
       "</div>"
      ],
      "text/plain": [
       "  SUBDIVISION  YEAR   JAN   FEB   MAR    APR    MAY     JUN     JUL    AUG  \\\n",
       "0      KERALA  1901  28.7  44.7  51.6  160.0  174.7   824.6   743.0  357.5   \n",
       "1      KERALA  1902   6.7   2.6  57.3   83.9  134.5   390.9  1205.0  315.8   \n",
       "2      KERALA  1903   3.2  18.6   3.1   83.6  249.7   558.6  1022.5  420.2   \n",
       "3      KERALA  1904  23.7   3.0  32.2   71.5  235.7  1098.2   725.5  351.8   \n",
       "4      KERALA  1905   1.2  22.3   9.4  105.9  263.3   850.2   520.5  293.6   \n",
       "\n",
       "     SEP    OCT    NOV    DEC   ANNUAL RAINFALL  FLOODS  \n",
       "0  197.7  266.9  350.8   48.4            3248.6       1  \n",
       "1  491.6  358.4  158.3  121.5            3326.6       1  \n",
       "2  341.8  354.1  157.0   59.0            3271.2       1  \n",
       "3  222.7  328.1   33.9    3.3            3129.7       1  \n",
       "4  217.2  383.5   74.4    0.2            2741.6       0  "
      ]
     },
     "execution_count": 10,
     "metadata": {},
     "output_type": "execute_result"
    }
   ],
   "source": [
    "#Printing the clean data\n",
    "data.head()"
   ]
  },
  {
   "cell_type": "code",
   "execution_count": 11,
   "metadata": {},
   "outputs": [
    {
     "data": {
      "text/html": [
       "<div>\n",
       "<style scoped>\n",
       "    .dataframe tbody tr th:only-of-type {\n",
       "        vertical-align: middle;\n",
       "    }\n",
       "\n",
       "    .dataframe tbody tr th {\n",
       "        vertical-align: top;\n",
       "    }\n",
       "\n",
       "    .dataframe thead th {\n",
       "        text-align: right;\n",
       "    }\n",
       "</style>\n",
       "<table border=\"1\" class=\"dataframe\">\n",
       "  <thead>\n",
       "    <tr style=\"text-align: right;\">\n",
       "      <th></th>\n",
       "      <th>YEAR</th>\n",
       "      <th>JAN</th>\n",
       "      <th>FEB</th>\n",
       "      <th>MAR</th>\n",
       "      <th>APR</th>\n",
       "      <th>MAY</th>\n",
       "      <th>JUN</th>\n",
       "      <th>JUL</th>\n",
       "      <th>AUG</th>\n",
       "      <th>SEP</th>\n",
       "      <th>OCT</th>\n",
       "      <th>NOV</th>\n",
       "      <th>DEC</th>\n",
       "    </tr>\n",
       "  </thead>\n",
       "  <tbody>\n",
       "    <tr>\n",
       "      <th>0</th>\n",
       "      <td>1901</td>\n",
       "      <td>28.7</td>\n",
       "      <td>44.7</td>\n",
       "      <td>51.6</td>\n",
       "      <td>160.0</td>\n",
       "      <td>174.7</td>\n",
       "      <td>824.6</td>\n",
       "      <td>743.0</td>\n",
       "      <td>357.5</td>\n",
       "      <td>197.7</td>\n",
       "      <td>266.9</td>\n",
       "      <td>350.8</td>\n",
       "      <td>48.4</td>\n",
       "    </tr>\n",
       "    <tr>\n",
       "      <th>1</th>\n",
       "      <td>1902</td>\n",
       "      <td>6.7</td>\n",
       "      <td>2.6</td>\n",
       "      <td>57.3</td>\n",
       "      <td>83.9</td>\n",
       "      <td>134.5</td>\n",
       "      <td>390.9</td>\n",
       "      <td>1205.0</td>\n",
       "      <td>315.8</td>\n",
       "      <td>491.6</td>\n",
       "      <td>358.4</td>\n",
       "      <td>158.3</td>\n",
       "      <td>121.5</td>\n",
       "    </tr>\n",
       "    <tr>\n",
       "      <th>2</th>\n",
       "      <td>1903</td>\n",
       "      <td>3.2</td>\n",
       "      <td>18.6</td>\n",
       "      <td>3.1</td>\n",
       "      <td>83.6</td>\n",
       "      <td>249.7</td>\n",
       "      <td>558.6</td>\n",
       "      <td>1022.5</td>\n",
       "      <td>420.2</td>\n",
       "      <td>341.8</td>\n",
       "      <td>354.1</td>\n",
       "      <td>157.0</td>\n",
       "      <td>59.0</td>\n",
       "    </tr>\n",
       "    <tr>\n",
       "      <th>3</th>\n",
       "      <td>1904</td>\n",
       "      <td>23.7</td>\n",
       "      <td>3.0</td>\n",
       "      <td>32.2</td>\n",
       "      <td>71.5</td>\n",
       "      <td>235.7</td>\n",
       "      <td>1098.2</td>\n",
       "      <td>725.5</td>\n",
       "      <td>351.8</td>\n",
       "      <td>222.7</td>\n",
       "      <td>328.1</td>\n",
       "      <td>33.9</td>\n",
       "      <td>3.3</td>\n",
       "    </tr>\n",
       "    <tr>\n",
       "      <th>4</th>\n",
       "      <td>1905</td>\n",
       "      <td>1.2</td>\n",
       "      <td>22.3</td>\n",
       "      <td>9.4</td>\n",
       "      <td>105.9</td>\n",
       "      <td>263.3</td>\n",
       "      <td>850.2</td>\n",
       "      <td>520.5</td>\n",
       "      <td>293.6</td>\n",
       "      <td>217.2</td>\n",
       "      <td>383.5</td>\n",
       "      <td>74.4</td>\n",
       "      <td>0.2</td>\n",
       "    </tr>\n",
       "  </tbody>\n",
       "</table>\n",
       "</div>"
      ],
      "text/plain": [
       "   YEAR   JAN   FEB   MAR    APR    MAY     JUN     JUL    AUG    SEP    OCT  \\\n",
       "0  1901  28.7  44.7  51.6  160.0  174.7   824.6   743.0  357.5  197.7  266.9   \n",
       "1  1902   6.7   2.6  57.3   83.9  134.5   390.9  1205.0  315.8  491.6  358.4   \n",
       "2  1903   3.2  18.6   3.1   83.6  249.7   558.6  1022.5  420.2  341.8  354.1   \n",
       "3  1904  23.7   3.0  32.2   71.5  235.7  1098.2   725.5  351.8  222.7  328.1   \n",
       "4  1905   1.2  22.3   9.4  105.9  263.3   850.2   520.5  293.6  217.2  383.5   \n",
       "\n",
       "     NOV    DEC  \n",
       "0  350.8   48.4  \n",
       "1  158.3  121.5  \n",
       "2  157.0   59.0  \n",
       "3   33.9    3.3  \n",
       "4   74.4    0.2  "
      ]
     },
     "execution_count": 11,
     "metadata": {},
     "output_type": "execute_result"
    }
   ],
   "source": [
    "x=data.iloc[:,1:14]\n",
    "x.head()"
   ]
  },
  {
   "cell_type": "code",
   "execution_count": 12,
   "metadata": {},
   "outputs": [
    {
     "data": {
      "text/plain": [
       "0      1\n",
       "1      1\n",
       "2      1\n",
       "3      1\n",
       "4      0\n",
       "      ..\n",
       "113    1\n",
       "114    0\n",
       "115    0\n",
       "116    0\n",
       "117    1\n",
       "Name: FLOODS, Length: 118, dtype: int64"
      ]
     },
     "execution_count": 12,
     "metadata": {},
     "output_type": "execute_result"
    }
   ],
   "source": [
    "y=data.iloc[:,-1]\n",
    "y"
   ]
  },
  {
   "cell_type": "code",
   "execution_count": 13,
   "metadata": {},
   "outputs": [
    {
     "data": {
      "image/png": "[encoded data removed]",
      "text/plain": [
       "<Figure size 640x480 with 4 Axes>"
      ]
     },
     "metadata": {},
     "output_type": "display_data"
    }
   ],
   "source": [
    "import matplotlib.pyplot as plt   \n",
    "# sets the backend of matplotlib to the 'inline' backend. \n",
    "%matplotlib inline                   \n",
    "c = data[['JUN','JUL','AUG','SEP']]\n",
    "c.hist()\n",
    "plt.show()"
   ]
  },
  {
   "cell_type": "code",
   "execution_count": 14,
   "metadata": {},
   "outputs": [
    {
     "data": {
      "text/plain": [
       "<contextlib.ExitStack at 0x1ace3c2ae50>"
      ]
     },
     "execution_count": 14,
     "metadata": {},
     "output_type": "execute_result"
    },
    {
     "data": {
      "image/png": "[encoded data removed]",
      "text/plain": [
       "<Figure size 1400x600 with 1 Axes>"
      ]
     },
     "metadata": {},
     "output_type": "display_data"
    }
   ],
   "source": [
    "ax = data[['JAN', 'FEB', 'MAR', 'APR','MAY', 'JUN', 'AUG', 'SEP', 'OCT','NOV','DEC']].mean().plot.bar(width=0.5,edgecolor='k',align='center',linewidth=2,figsize=(14,6))\n",
    "plt.xlabel('Month',fontsize=30)\n",
    "plt.ylabel('Monthly Rainfall',fontsize=20)\n",
    "plt.title('Rainfall in Kerela for all Months',fontsize=25)\n",
    "ax.tick_params(labelsize=20)\n",
    "plt.grid()\n",
    "plt.ioff()"
   ]
  },
  {
   "cell_type": "code",
   "execution_count": 15,
   "metadata": {},
   "outputs": [
    {
     "data": {
      "text/plain": [
       "array([[0.        , 0.34371257, 0.56582278, ..., 0.39727673, 0.95570189,\n",
       "        0.2388724 ],\n",
       "       [0.00854701, 0.08023952, 0.03291139, ..., 0.5804966 , 0.37952709,\n",
       "        0.60039565],\n",
       "       [0.01709402, 0.03832335, 0.23544304, ..., 0.57188626, 0.37563604,\n",
       "        0.29129575],\n",
       "       ...,\n",
       "       [0.98290598, 0.02874251, 0.04810127, ..., 0.31517821, 0.28105358,\n",
       "        0.11622156],\n",
       "       [0.99145299, 0.02275449, 0.08607595, ..., 0.24809772, 0.18258007,\n",
       "        0.18793274],\n",
       "       [1.        , 0.34850299, 0.65949367, ..., 0.57589107, 0.28105358,\n",
       "        0.3214639 ]])"
      ]
     },
     "execution_count": 15,
     "metadata": {},
     "output_type": "execute_result"
    }
   ],
   "source": [
    "# Scaling the data between 0 and 1.\n",
    "from sklearn import preprocessing\n",
    "minmax = preprocessing.MinMaxScaler(feature_range=(0,1))\n",
    "minmax.fit(x).transform(x)"
   ]
  },
  {
   "cell_type": "code",
   "execution_count": 16,
   "metadata": {},
   "outputs": [
    {
     "data": {
      "text/html": [
       "<div>\n",
       "<style scoped>\n",
       "    .dataframe tbody tr th:only-of-type {\n",
       "        vertical-align: middle;\n",
       "    }\n",
       "\n",
       "    .dataframe tbody tr th {\n",
       "        vertical-align: top;\n",
       "    }\n",
       "\n",
       "    .dataframe thead th {\n",
       "        text-align: right;\n",
       "    }\n",
       "</style>\n",
       "<table border=\"1\" class=\"dataframe\">\n",
       "  <thead>\n",
       "    <tr style=\"text-align: right;\">\n",
       "      <th></th>\n",
       "      <th>YEAR</th>\n",
       "      <th>JAN</th>\n",
       "      <th>FEB</th>\n",
       "      <th>MAR</th>\n",
       "      <th>APR</th>\n",
       "      <th>MAY</th>\n",
       "      <th>JUN</th>\n",
       "      <th>JUL</th>\n",
       "      <th>AUG</th>\n",
       "      <th>SEP</th>\n",
       "      <th>OCT</th>\n",
       "      <th>NOV</th>\n",
       "      <th>DEC</th>\n",
       "    </tr>\n",
       "  </thead>\n",
       "  <tbody>\n",
       "    <tr>\n",
       "      <th>18</th>\n",
       "      <td>1919</td>\n",
       "      <td>43.0</td>\n",
       "      <td>6.1</td>\n",
       "      <td>33.9</td>\n",
       "      <td>65.9</td>\n",
       "      <td>247.0</td>\n",
       "      <td>636.8</td>\n",
       "      <td>648.0</td>\n",
       "      <td>484.2</td>\n",
       "      <td>255.9</td>\n",
       "      <td>249.2</td>\n",
       "      <td>280.1</td>\n",
       "      <td>53.0</td>\n",
       "    </tr>\n",
       "    <tr>\n",
       "      <th>107</th>\n",
       "      <td>2008</td>\n",
       "      <td>0.8</td>\n",
       "      <td>30.3</td>\n",
       "      <td>217.2</td>\n",
       "      <td>108.4</td>\n",
       "      <td>81.2</td>\n",
       "      <td>469.9</td>\n",
       "      <td>505.1</td>\n",
       "      <td>349.0</td>\n",
       "      <td>347.0</td>\n",
       "      <td>343.4</td>\n",
       "      <td>55.4</td>\n",
       "      <td>17.0</td>\n",
       "    </tr>\n",
       "    <tr>\n",
       "      <th>11</th>\n",
       "      <td>1912</td>\n",
       "      <td>1.9</td>\n",
       "      <td>15.0</td>\n",
       "      <td>11.2</td>\n",
       "      <td>122.7</td>\n",
       "      <td>217.3</td>\n",
       "      <td>948.2</td>\n",
       "      <td>833.6</td>\n",
       "      <td>534.4</td>\n",
       "      <td>136.8</td>\n",
       "      <td>469.5</td>\n",
       "      <td>138.7</td>\n",
       "      <td>22.0</td>\n",
       "    </tr>\n",
       "    <tr>\n",
       "      <th>37</th>\n",
       "      <td>1938</td>\n",
       "      <td>0.3</td>\n",
       "      <td>79.0</td>\n",
       "      <td>53.3</td>\n",
       "      <td>164.5</td>\n",
       "      <td>179.6</td>\n",
       "      <td>681.6</td>\n",
       "      <td>648.6</td>\n",
       "      <td>287.9</td>\n",
       "      <td>223.2</td>\n",
       "      <td>223.7</td>\n",
       "      <td>69.5</td>\n",
       "      <td>22.9</td>\n",
       "    </tr>\n",
       "    <tr>\n",
       "      <th>38</th>\n",
       "      <td>1939</td>\n",
       "      <td>13.6</td>\n",
       "      <td>3.6</td>\n",
       "      <td>24.9</td>\n",
       "      <td>172.8</td>\n",
       "      <td>105.1</td>\n",
       "      <td>625.8</td>\n",
       "      <td>749.6</td>\n",
       "      <td>459.9</td>\n",
       "      <td>134.1</td>\n",
       "      <td>339.8</td>\n",
       "      <td>298.1</td>\n",
       "      <td>10.2</td>\n",
       "    </tr>\n",
       "  </tbody>\n",
       "</table>\n",
       "</div>"
      ],
      "text/plain": [
       "     YEAR   JAN   FEB    MAR    APR    MAY    JUN    JUL    AUG    SEP    OCT  \\\n",
       "18   1919  43.0   6.1   33.9   65.9  247.0  636.8  648.0  484.2  255.9  249.2   \n",
       "107  2008   0.8  30.3  217.2  108.4   81.2  469.9  505.1  349.0  347.0  343.4   \n",
       "11   1912   1.9  15.0   11.2  122.7  217.3  948.2  833.6  534.4  136.8  469.5   \n",
       "37   1938   0.3  79.0   53.3  164.5  179.6  681.6  648.6  287.9  223.2  223.7   \n",
       "38   1939  13.6   3.6   24.9  172.8  105.1  625.8  749.6  459.9  134.1  339.8   \n",
       "\n",
       "       NOV   DEC  \n",
       "18   280.1  53.0  \n",
       "107   55.4  17.0  \n",
       "11   138.7  22.0  \n",
       "37    69.5  22.9  \n",
       "38   298.1  10.2  "
      ]
     },
     "execution_count": 16,
     "metadata": {},
     "output_type": "execute_result"
    }
   ],
   "source": [
    "from sklearn import model_selection,neighbors\n",
    "from sklearn.model_selection import train_test_split\n",
    "x_train,x_test,y_train,y_test=train_test_split(x,y,test_size=0.2)\n",
    "x_train.head()"
   ]
  },
  {
   "cell_type": "code",
   "execution_count": 17,
   "metadata": {},
   "outputs": [
    {
     "data": {
      "text/plain": [
       "YEAR      int64\n",
       "JAN     float64\n",
       "FEB     float64\n",
       "MAR     float64\n",
       "APR     float64\n",
       "MAY     float64\n",
       "JUN     float64\n",
       "JUL     float64\n",
       "AUG     float64\n",
       "SEP     float64\n",
       "OCT     float64\n",
       "NOV     float64\n",
       "DEC     float64\n",
       "dtype: object"
      ]
     },
     "execution_count": 17,
     "metadata": {},
     "output_type": "execute_result"
    }
   ],
   "source": [
    "x_train.dtypes"
   ]
  },
  {
   "cell_type": "code",
   "execution_count": 18,
   "metadata": {},
   "outputs": [
    {
     "data": {
      "text/html": [
       "<div>\n",
       "<style scoped>\n",
       "    .dataframe tbody tr th:only-of-type {\n",
       "        vertical-align: middle;\n",
       "    }\n",
       "\n",
       "    .dataframe tbody tr th {\n",
       "        vertical-align: top;\n",
       "    }\n",
       "\n",
       "    .dataframe thead th {\n",
       "        text-align: right;\n",
       "    }\n",
       "</style>\n",
       "<table border=\"1\" class=\"dataframe\">\n",
       "  <thead>\n",
       "    <tr style=\"text-align: right;\">\n",
       "      <th></th>\n",
       "      <th>YEAR</th>\n",
       "      <th>JAN</th>\n",
       "      <th>FEB</th>\n",
       "      <th>MAR</th>\n",
       "      <th>APR</th>\n",
       "      <th>MAY</th>\n",
       "      <th>JUN</th>\n",
       "      <th>JUL</th>\n",
       "      <th>AUG</th>\n",
       "      <th>SEP</th>\n",
       "      <th>OCT</th>\n",
       "      <th>NOV</th>\n",
       "      <th>DEC</th>\n",
       "    </tr>\n",
       "  </thead>\n",
       "  <tbody>\n",
       "    <tr>\n",
       "      <th>82</th>\n",
       "      <td>1983</td>\n",
       "      <td>0.2</td>\n",
       "      <td>1.5</td>\n",
       "      <td>0.9</td>\n",
       "      <td>13.1</td>\n",
       "      <td>76.0</td>\n",
       "      <td>322.8</td>\n",
       "      <td>583.2</td>\n",
       "      <td>579.9</td>\n",
       "      <td>421.1</td>\n",
       "      <td>136.2</td>\n",
       "      <td>116.5</td>\n",
       "      <td>69.1</td>\n",
       "    </tr>\n",
       "    <tr>\n",
       "      <th>92</th>\n",
       "      <td>1993</td>\n",
       "      <td>0.0</td>\n",
       "      <td>17.8</td>\n",
       "      <td>20.1</td>\n",
       "      <td>66.5</td>\n",
       "      <td>159.0</td>\n",
       "      <td>657.1</td>\n",
       "      <td>776.1</td>\n",
       "      <td>301.9</td>\n",
       "      <td>88.0</td>\n",
       "      <td>431.2</td>\n",
       "      <td>153.8</td>\n",
       "      <td>46.2</td>\n",
       "    </tr>\n",
       "    <tr>\n",
       "      <th>106</th>\n",
       "      <td>2007</td>\n",
       "      <td>0.5</td>\n",
       "      <td>5.6</td>\n",
       "      <td>7.3</td>\n",
       "      <td>138.5</td>\n",
       "      <td>192.7</td>\n",
       "      <td>705.9</td>\n",
       "      <td>966.3</td>\n",
       "      <td>489.6</td>\n",
       "      <td>526.7</td>\n",
       "      <td>357.2</td>\n",
       "      <td>87.4</td>\n",
       "      <td>11.9</td>\n",
       "    </tr>\n",
       "    <tr>\n",
       "      <th>41</th>\n",
       "      <td>1942</td>\n",
       "      <td>2.4</td>\n",
       "      <td>4.7</td>\n",
       "      <td>23.2</td>\n",
       "      <td>180.3</td>\n",
       "      <td>191.9</td>\n",
       "      <td>813.6</td>\n",
       "      <td>828.8</td>\n",
       "      <td>329.3</td>\n",
       "      <td>99.8</td>\n",
       "      <td>374.4</td>\n",
       "      <td>84.7</td>\n",
       "      <td>117.9</td>\n",
       "    </tr>\n",
       "    <tr>\n",
       "      <th>65</th>\n",
       "      <td>1966</td>\n",
       "      <td>3.0</td>\n",
       "      <td>6.9</td>\n",
       "      <td>67.7</td>\n",
       "      <td>167.4</td>\n",
       "      <td>95.2</td>\n",
       "      <td>496.2</td>\n",
       "      <td>601.9</td>\n",
       "      <td>202.1</td>\n",
       "      <td>293.2</td>\n",
       "      <td>392.3</td>\n",
       "      <td>245.4</td>\n",
       "      <td>50.5</td>\n",
       "    </tr>\n",
       "  </tbody>\n",
       "</table>\n",
       "</div>"
      ],
      "text/plain": [
       "     YEAR  JAN   FEB   MAR    APR    MAY    JUN    JUL    AUG    SEP    OCT  \\\n",
       "82   1983  0.2   1.5   0.9   13.1   76.0  322.8  583.2  579.9  421.1  136.2   \n",
       "92   1993  0.0  17.8  20.1   66.5  159.0  657.1  776.1  301.9   88.0  431.2   \n",
       "106  2007  0.5   5.6   7.3  138.5  192.7  705.9  966.3  489.6  526.7  357.2   \n",
       "41   1942  2.4   4.7  23.2  180.3  191.9  813.6  828.8  329.3   99.8  374.4   \n",
       "65   1966  3.0   6.9  67.7  167.4   95.2  496.2  601.9  202.1  293.2  392.3   \n",
       "\n",
       "       NOV    DEC  \n",
       "82   116.5   69.1  \n",
       "92   153.8   46.2  \n",
       "106   87.4   11.9  \n",
       "41    84.7  117.9  \n",
       "65   245.4   50.5  "
      ]
     },
     "execution_count": 18,
     "metadata": {},
     "output_type": "execute_result"
    }
   ],
   "source": [
    "x_test.head()"
   ]
  },
  {
   "cell_type": "code",
   "execution_count": 19,
   "metadata": {},
   "outputs": [
    {
     "data": {
      "text/plain": [
       "18     1\n",
       "107    0\n",
       "11     1\n",
       "37     0\n",
       "38     1\n",
       "      ..\n",
       "1      1\n",
       "0      1\n",
       "81     0\n",
       "75     0\n",
       "68     0\n",
       "Name: FLOODS, Length: 94, dtype: int32"
      ]
     },
     "execution_count": 19,
     "metadata": {},
     "output_type": "execute_result"
    }
   ],
   "source": [
    "# type casting.\n",
    "y_train=y_train.astype('int')\n",
    "y_train"
   ]
  },
  {
   "cell_type": "code",
   "execution_count": 20,
   "metadata": {},
   "outputs": [
    {
     "data": {
      "text/plain": [
       "82     0\n",
       "92     0\n",
       "106    1\n",
       "41     1\n",
       "65     0\n",
       "114    0\n",
       "21     1\n",
       "50     0\n",
       "39     1\n",
       "63     0\n",
       "73     0\n",
       "87     0\n",
       "13     0\n",
       "113    1\n",
       "83     0\n",
       "71     0\n",
       "26     1\n",
       "53     1\n",
       "88     0\n",
       "93     1\n",
       "79     0\n",
       "110    1\n",
       "85     0\n",
       "84     0\n",
       "Name: FLOODS, dtype: int32"
      ]
     },
     "execution_count": 20,
     "metadata": {},
     "output_type": "execute_result"
    }
   ],
   "source": [
    "y_test=y_test.astype('int')\n",
    "y_test"
   ]
  },
  {
   "cell_type": "markdown",
   "metadata": {},
   "source": [
    "## Using Prediction Algorithms:"
   ]
  },
  {
   "cell_type": "markdown",
   "metadata": {},
   "source": [
    "### KNN classifier to predict"
   ]
  },
  {
   "cell_type": "code",
   "execution_count": 21,
   "metadata": {},
   "outputs": [
    {
     "data": {
      "text/html": [
       "<style>#sk-container-id-1 {color: black;}#sk-container-id-1 pre{padding: 0;}#sk-container-id-1 div.sk-toggleable {background-color: white;}#sk-container-id-1 label.sk-toggleable__label {cursor: pointer;display: block;width: 100%;margin-bottom: 0;padding: 0.3em;box-sizing: border-box;text-align: center;}#sk-container-id-1 label.sk-toggleable__label-arrow:before {content: \"▸\";float: left;margin-right: 0.25em;color: #696969;}#sk-container-id-1 label.sk-toggleable__label-arrow:hover:before {color: black;}#sk-container-id-1 div.sk-estimator:hover label.sk-toggleable__label-arrow:before {color: black;}#sk-container-id-1 div.sk-toggleable__content {max-height: 0;max-width: 0;overflow: hidden;text-align: left;background-color: #f0f8ff;}#sk-container-id-1 div.sk-toggleable__content pre {margin: 0.2em;color: black;border-radius: 0.25em;background-color: #f0f8ff;}#sk-container-id-1 input.sk-toggleable__control:checked~div.sk-toggleable__content {max-height: 200px;max-width: 100%;overflow: auto;}#sk-container-id-1 input.sk-toggleable__control:checked~label.sk-toggleable__label-arrow:before {content: \"▾\";}#sk-container-id-1 div.sk-estimator input.sk-toggleable__control:checked~label.sk-toggleable__label {background-color: #d4ebff;}#sk-container-id-1 div.sk-label input.sk-toggleable__control:checked~label.sk-toggleable__label {background-color: #d4ebff;}#sk-container-id-1 input.sk-hidden--visually {border: 0;clip: rect(1px 1px 1px 1px);clip: rect(1px, 1px, 1px, 1px);height: 1px;margin: -1px;overflow: hidden;padding: 0;position: absolute;width: 1px;}#sk-container-id-1 div.sk-estimator {font-family: monospace;background-color: #f0f8ff;border: 1px dotted black;border-radius: 0.25em;box-sizing: border-box;margin-bottom: 0.5em;}#sk-container-id-1 div.sk-estimator:hover {background-color: #d4ebff;}#sk-container-id-1 div.sk-parallel-item::after {content: \"\";width: 100%;border-bottom: 1px solid gray;flex-grow: 1;}#sk-container-id-1 div.sk-label:hover label.sk-toggleable__label {background-color: #d4ebff;}#sk-container-id-1 div.sk-serial::before {content: \"\";position: absolute;border-left: 1px solid gray;box-sizing: border-box;top: 0;bottom: 0;left: 50%;z-index: 0;}#sk-container-id-1 div.sk-serial {display: flex;flex-direction: column;align-items: center;background-color: white;padding-right: 0.2em;padding-left: 0.2em;position: relative;}#sk-container-id-1 div.sk-item {position: relative;z-index: 1;}#sk-container-id-1 div.sk-parallel {display: flex;align-items: stretch;justify-content: center;background-color: white;position: relative;}#sk-container-id-1 div.sk-item::before, #sk-container-id-1 div.sk-parallel-item::before {content: \"\";position: absolute;border-left: 1px solid gray;box-sizing: border-box;top: 0;bottom: 0;left: 50%;z-index: -1;}#sk-container-id-1 div.sk-parallel-item {display: flex;flex-direction: column;z-index: 1;position: relative;background-color: white;}#sk-container-id-1 div.sk-parallel-item:first-child::after {align-self: flex-end;width: 50%;}#sk-container-id-1 div.sk-parallel-item:last-child::after {align-self: flex-start;width: 50%;}#sk-container-id-1 div.sk-parallel-item:only-child::after {width: 0;}#sk-container-id-1 div.sk-dashed-wrapped {border: 1px dashed gray;margin: 0 0.4em 0.5em 0.4em;box-sizing: border-box;padding-bottom: 0.4em;background-color: white;}#sk-container-id-1 div.sk-label label {font-family: monospace;font-weight: bold;display: inline-block;line-height: 1.2em;}#sk-container-id-1 div.sk-label-container {text-align: center;}#sk-container-id-1 div.sk-container {/* jupyter's `normalize.less` sets `[hidden] { display: none; }` but bootstrap.min.css set `[hidden] { display: none !important; }` so we also need the `!important` here to be able to override the default hidden behavior on the sphinx rendered scikit-learn.org. See: https://github.com/scikit-learn/scikit-learn/issues/21755 */display: inline-block !important;position: relative;}#sk-container-id-1 div.sk-text-repr-fallback {display: none;}</style><div id=\"sk-container-id-1\" class=\"sk-top-container\"><div class=\"sk-text-repr-fallback\"><pre>KNeighborsClassifier()</pre><b>In a Jupyter environment, please rerun this cell to show the HTML representation or trust the notebook. <br />On GitHub, the HTML representation is unable to render, please try loading this page with nbviewer.org.</b></div><div class=\"sk-container\" hidden><div class=\"sk-item\"><div class=\"sk-estimator sk-toggleable\"><input class=\"sk-toggleable__control sk-hidden--visually\" id=\"sk-estimator-id-1\" type=\"checkbox\" checked><label for=\"sk-estimator-id-1\" class=\"sk-toggleable__label sk-toggleable__label-arrow\">KNeighborsClassifier</label><div class=\"sk-toggleable__content\"><pre>KNeighborsClassifier()</pre></div></div></div></div></div>"
      ],
      "text/plain": [
       "KNeighborsClassifier()"
      ]
     },
     "execution_count": 21,
     "metadata": {},
     "output_type": "execute_result"
    }
   ],
   "source": [
    "clf=neighbors.KNeighborsClassifier()\n",
    "clf.fit(x_train,y_train)"
   ]
  },
  {
   "cell_type": "code",
   "execution_count": 22,
   "metadata": {},
   "outputs": [
    {
     "name": "stdout",
     "output_type": "stream",
     "text": [
      "Predicted Values for the Floods:\n"
     ]
    },
    {
     "data": {
      "text/plain": [
       "array([0, 0, 1, 1, 0, 0, 1, 0, 1, 0, 0, 0, 0, 0, 0, 0, 1, 0, 0, 1, 1, 1,\n",
       "       0, 0])"
      ]
     },
     "execution_count": 22,
     "metadata": {},
     "output_type": "execute_result"
    }
   ],
   "source": [
    "# Predicted chance of Flood.\n",
    "print(\"Predicted Values for the Floods:\")\n",
    "y_predict=clf.predict(x_test)\n",
    "y_predict"
   ]
  },
  {
   "cell_type": "code",
   "execution_count": 23,
   "metadata": {},
   "outputs": [
    {
     "name": "stdout",
     "output_type": "stream",
     "text": [
      "Actual Values for the Floods:\n",
      "82     0\n",
      "92     0\n",
      "106    1\n",
      "41     1\n",
      "65     0\n",
      "114    0\n",
      "21     1\n",
      "50     0\n",
      "39     1\n",
      "63     0\n",
      "73     0\n",
      "87     0\n",
      "13     0\n",
      "113    1\n",
      "83     0\n",
      "71     0\n",
      "26     1\n",
      "53     1\n",
      "88     0\n",
      "93     1\n",
      "79     0\n",
      "110    1\n",
      "85     0\n",
      "84     0\n",
      "Name: FLOODS, dtype: int32\n"
     ]
    }
   ],
   "source": [
    "print(\"Actual Values for the Floods:\")\n",
    "print(y_test)"
   ]
  },
  {
   "cell_type": "code",
   "execution_count": 24,
   "metadata": {},
   "outputs": [
    {
     "name": "stdout",
     "output_type": "stream",
     "text": [
      "List of the Predicted Values:\n",
      "[0 0 1 1 0 0 1 0 1 0 0 0 0 0 0 0 1 0 0 1 1 1 0 0]\n"
     ]
    }
   ],
   "source": [
    "print(\"List of the Predicted Values:\")\n",
    "print(y_predict)"
   ]
  },
  {
   "cell_type": "code",
   "execution_count": 25,
   "metadata": {},
   "outputs": [],
   "source": [
    "# Scaling the dataset.\n",
    "from sklearn.model_selection import cross_val_score,cross_val_predict\n",
    "x_train_std= minmax.fit_transform(x_train)\n",
    "x_test_std= minmax.fit_transform(x_test)\n",
    "knn_acc=cross_val_score(clf,x_train_std,y_train,cv=3,scoring='accuracy',n_jobs=-1)\n",
    "knn_proba=cross_val_predict(clf,x_train_std,y_train,cv=3,method='predict_proba')"
   ]
  },
  {
   "cell_type": "code",
   "execution_count": 26,
   "metadata": {},
   "outputs": [
    {
     "data": {
      "text/plain": [
       "array([0.78125   , 0.70967742, 0.87096774])"
      ]
     },
     "execution_count": 26,
     "metadata": {},
     "output_type": "execute_result"
    }
   ],
   "source": [
    "knn_acc"
   ]
  },
  {
   "cell_type": "code",
   "execution_count": 27,
   "metadata": {},
   "outputs": [
    {
     "data": {
      "text/plain": [
       "array([[0.2, 0.8],\n",
       "       [0.4, 0.6],\n",
       "       [0.6, 0.4],\n",
       "       [0.8, 0.2],\n",
       "       [1. , 0. ],\n",
       "       [0.6, 0.4],\n",
       "       [0.6, 0.4],\n",
       "       [0.8, 0.2],\n",
       "       [0.6, 0.4],\n",
       "       [0.2, 0.8],\n",
       "       [0.4, 0.6],\n",
       "       [0.8, 0.2],\n",
       "       [0.2, 0.8],\n",
       "       [1. , 0. ],\n",
       "       [0.6, 0.4],\n",
       "       [0.2, 0.8],\n",
       "       [0.8, 0.2],\n",
       "       [1. , 0. ],\n",
       "       [0.4, 0.6],\n",
       "       [0.2, 0.8],\n",
       "       [0.2, 0.8],\n",
       "       [0.8, 0.2],\n",
       "       [0.6, 0.4],\n",
       "       [0.2, 0.8],\n",
       "       [1. , 0. ],\n",
       "       [1. , 0. ],\n",
       "       [1. , 0. ],\n",
       "       [0.6, 0.4],\n",
       "       [0.2, 0.8],\n",
       "       [0.4, 0.6],\n",
       "       [0.8, 0.2],\n",
       "       [0. , 1. ],\n",
       "       [0.8, 0.2],\n",
       "       [0.4, 0.6],\n",
       "       [0.8, 0.2],\n",
       "       [0.4, 0.6],\n",
       "       [0.8, 0.2],\n",
       "       [0.4, 0.6],\n",
       "       [0.4, 0.6],\n",
       "       [0.4, 0.6],\n",
       "       [0.2, 0.8],\n",
       "       [1. , 0. ],\n",
       "       [0.4, 0.6],\n",
       "       [0.4, 0.6],\n",
       "       [0.4, 0.6],\n",
       "       [0.8, 0.2],\n",
       "       [0.4, 0.6],\n",
       "       [0.4, 0.6],\n",
       "       [0.4, 0.6],\n",
       "       [0.2, 0.8],\n",
       "       [0.8, 0.2],\n",
       "       [0.4, 0.6],\n",
       "       [0.2, 0.8],\n",
       "       [0.8, 0.2],\n",
       "       [0.6, 0.4],\n",
       "       [0.2, 0.8],\n",
       "       [0. , 1. ],\n",
       "       [0.6, 0.4],\n",
       "       [0.2, 0.8],\n",
       "       [0.4, 0.6],\n",
       "       [0.4, 0.6],\n",
       "       [0. , 1. ],\n",
       "       [0.4, 0.6],\n",
       "       [0.6, 0.4],\n",
       "       [0.8, 0.2],\n",
       "       [0.4, 0.6],\n",
       "       [0.8, 0.2],\n",
       "       [0. , 1. ],\n",
       "       [0.2, 0.8],\n",
       "       [1. , 0. ],\n",
       "       [0.2, 0.8],\n",
       "       [0.2, 0.8],\n",
       "       [1. , 0. ],\n",
       "       [0.2, 0.8],\n",
       "       [1. , 0. ],\n",
       "       [0.6, 0.4],\n",
       "       [0. , 1. ],\n",
       "       [0.4, 0.6],\n",
       "       [1. , 0. ],\n",
       "       [0.6, 0.4],\n",
       "       [0.2, 0.8],\n",
       "       [1. , 0. ],\n",
       "       [0.4, 0.6],\n",
       "       [0.8, 0.2],\n",
       "       [1. , 0. ],\n",
       "       [0.2, 0.8],\n",
       "       [0.6, 0.4],\n",
       "       [1. , 0. ],\n",
       "       [0.6, 0.4],\n",
       "       [0.6, 0.4],\n",
       "       [0.2, 0.8],\n",
       "       [1. , 0. ],\n",
       "       [0.8, 0.2],\n",
       "       [1. , 0. ]])"
      ]
     },
     "execution_count": 27,
     "metadata": {},
     "output_type": "execute_result"
    }
   ],
   "source": [
    "knn_proba"
   ]
  },
  {
   "cell_type": "markdown",
   "metadata": {},
   "source": [
    "Model accuracy"
   ]
  },
  {
   "cell_type": "code",
   "execution_count": 28,
   "metadata": {},
   "outputs": [
    {
     "name": "stdout",
     "output_type": "stream",
     "text": [
      "\n",
      "Accuracy Score: 87.500000\n",
      "Recall Score: 77.777778\n",
      "ROC score: 85.555556\n",
      "[[14  1]\n",
      " [ 2  7]]\n"
     ]
    }
   ],
   "source": [
    "from sklearn.metrics import accuracy_score,recall_score,roc_auc_score,confusion_matrix\n",
    "print(\"\\nAccuracy Score: %f\"%(accuracy_score(y_test,y_predict)*100))\n",
    "print(\"Recall Score: %f\"%(recall_score(y_test,y_predict)*100))\n",
    "print(\"ROC score: %f\"%(roc_auc_score(y_test,y_predict)*100))\n",
    "print(confusion_matrix(y_test,y_predict))"
   ]
  },
  {
   "cell_type": "markdown",
   "metadata": {},
   "source": [
    "### Logistic Regression to predict\n"
   ]
  },
  {
   "cell_type": "code",
   "execution_count": 29,
   "metadata": {},
   "outputs": [],
   "source": [
    "x_train_std=minmax.fit_transform(x_train)         # fit the values in between 0 and 1.\n",
    "y_train_std=minmax.transform(x_test)\n",
    "\n",
    "from sklearn.model_selection import cross_val_score,cross_val_predict\n",
    "from sklearn.linear_model import LogisticRegression\n",
    "lr=LogisticRegression()\n",
    "lr.fit(x_train,y_train)\n",
    "lr_acc=cross_val_score(lr,x_train_std,y_train,cv=3,scoring='accuracy',n_jobs=-1)\n",
    "lr_proba=cross_val_predict(lr,x_train_std,y_train,cv=3,method='predict_proba')"
   ]
  },
  {
   "cell_type": "code",
   "execution_count": 30,
   "metadata": {},
   "outputs": [
    {
     "data": {
      "text/plain": [
       "array([0.90625   , 0.70967742, 0.96774194])"
      ]
     },
     "execution_count": 30,
     "metadata": {},
     "output_type": "execute_result"
    }
   ],
   "source": [
    "lr_acc"
   ]
  },
  {
   "cell_type": "code",
   "execution_count": 31,
   "metadata": {},
   "outputs": [
    {
     "data": {
      "text/plain": [
       "array([[0.34678397, 0.65321603],\n",
       "       [0.52919433, 0.47080567],\n",
       "       [0.44744163, 0.55255837],\n",
       "       [0.63413012, 0.36586988],\n",
       "       [0.56548757, 0.43451243],\n",
       "       [0.35474131, 0.64525869],\n",
       "       [0.50453771, 0.49546229],\n",
       "       [0.60642974, 0.39357026],\n",
       "       [0.54467263, 0.45532737],\n",
       "       [0.23157327, 0.76842673],\n",
       "       [0.17285281, 0.82714719],\n",
       "       [0.46330774, 0.53669226],\n",
       "       [0.37555228, 0.62444772],\n",
       "       [0.71311772, 0.28688228],\n",
       "       [0.50104948, 0.49895052],\n",
       "       [0.37613513, 0.62386487],\n",
       "       [0.53469518, 0.46530482],\n",
       "       [0.81027398, 0.18972602],\n",
       "       [0.3255809 , 0.6744191 ],\n",
       "       [0.31184684, 0.68815316],\n",
       "       [0.34467998, 0.65532002],\n",
       "       [0.31178599, 0.68821401],\n",
       "       [0.54343855, 0.45656145],\n",
       "       [0.29066282, 0.70933718],\n",
       "       [0.61027156, 0.38972844],\n",
       "       [0.63627872, 0.36372128],\n",
       "       [0.6926775 , 0.3073225 ],\n",
       "       [0.33134994, 0.66865006],\n",
       "       [0.38621798, 0.61378202],\n",
       "       [0.32748568, 0.67251432],\n",
       "       [0.67757083, 0.32242917],\n",
       "       [0.19880527, 0.80119473],\n",
       "       [0.60657974, 0.39342026],\n",
       "       [0.31562704, 0.68437296],\n",
       "       [0.56187703, 0.43812297],\n",
       "       [0.23484927, 0.76515073],\n",
       "       [0.59462159, 0.40537841],\n",
       "       [0.31912757, 0.68087243],\n",
       "       [0.26200354, 0.73799646],\n",
       "       [0.34664073, 0.65335927],\n",
       "       [0.1939957 , 0.8060043 ],\n",
       "       [0.79396131, 0.20603869],\n",
       "       [0.39465483, 0.60534517],\n",
       "       [0.56329123, 0.43670877],\n",
       "       [0.48677562, 0.51322438],\n",
       "       [0.47002829, 0.52997171],\n",
       "       [0.32818737, 0.67181263],\n",
       "       [0.3751908 , 0.6248092 ],\n",
       "       [0.40913941, 0.59086059],\n",
       "       [0.17382848, 0.82617152],\n",
       "       [0.62893051, 0.37106949],\n",
       "       [0.28648302, 0.71351698],\n",
       "       [0.22576595, 0.77423405],\n",
       "       [0.55391798, 0.44608202],\n",
       "       [0.50956473, 0.49043527],\n",
       "       [0.41619762, 0.58380238],\n",
       "       [0.21729708, 0.78270292],\n",
       "       [0.54705855, 0.45294145],\n",
       "       [0.42973504, 0.57026496],\n",
       "       [0.3830432 , 0.6169568 ],\n",
       "       [0.45607856, 0.54392144],\n",
       "       [0.09028229, 0.90971771],\n",
       "       [0.57374791, 0.42625209],\n",
       "       [0.47310603, 0.52689397],\n",
       "       [0.64445406, 0.35554594],\n",
       "       [0.35841148, 0.64158852],\n",
       "       [0.66548292, 0.33451708],\n",
       "       [0.14643118, 0.85356882],\n",
       "       [0.20883827, 0.79116173],\n",
       "       [0.73903153, 0.26096847],\n",
       "       [0.13827008, 0.86172992],\n",
       "       [0.41106302, 0.58893698],\n",
       "       [0.7848157 , 0.2151843 ],\n",
       "       [0.24763678, 0.75236322],\n",
       "       [0.72703127, 0.27296873],\n",
       "       [0.56970051, 0.43029949],\n",
       "       [0.40465807, 0.59534193],\n",
       "       [0.3877382 , 0.6122618 ],\n",
       "       [0.53281659, 0.46718341],\n",
       "       [0.45270398, 0.54729602],\n",
       "       [0.21817731, 0.78182269],\n",
       "       [0.7228811 , 0.2771189 ],\n",
       "       [0.28243614, 0.71756386],\n",
       "       [0.66984249, 0.33015751],\n",
       "       [0.81301706, 0.18698294],\n",
       "       [0.36899217, 0.63100783],\n",
       "       [0.32680912, 0.67319088],\n",
       "       [0.69316145, 0.30683855],\n",
       "       [0.63445684, 0.36554316],\n",
       "       [0.31424956, 0.68575044],\n",
       "       [0.28973378, 0.71026622],\n",
       "       [0.7202271 , 0.2797729 ],\n",
       "       [0.7477492 , 0.2522508 ],\n",
       "       [0.58779448, 0.41220552]])"
      ]
     },
     "execution_count": 31,
     "metadata": {},
     "output_type": "execute_result"
    }
   ],
   "source": [
    "lr_proba"
   ]
  },
  {
   "cell_type": "code",
   "execution_count": 32,
   "metadata": {},
   "outputs": [
    {
     "data": {
      "text/plain": [
       "array([0, 0, 1, 1, 0, 0, 1, 0, 1, 0, 0, 0, 1, 1, 0, 0, 1, 1, 0, 1, 0, 1,\n",
       "       0, 0])"
      ]
     },
     "execution_count": 32,
     "metadata": {},
     "output_type": "execute_result"
    }
   ],
   "source": [
    "y_pred=lr.predict(x_test)\n",
    "y_pred"
   ]
  },
  {
   "cell_type": "code",
   "execution_count": 33,
   "metadata": {},
   "outputs": [
    {
     "name": "stdout",
     "output_type": "stream",
     "text": [
      "[0 0 1 1 0 0 1 0 1 0 0 0 0 1 0 0 1 1 0 1 0 1 0 0]\n"
     ]
    }
   ],
   "source": [
    "print(y_test.values)"
   ]
  },
  {
   "cell_type": "code",
   "execution_count": 34,
   "metadata": {},
   "outputs": [
    {
     "name": "stdout",
     "output_type": "stream",
     "text": [
      "List of the Predicted Values:\n",
      "[0 0 1 1 0 0 1 0 1 0 0 0 1 1 0 0 1 1 0 1 0 1 0 0]\n"
     ]
    }
   ],
   "source": [
    "print(\"List of the Predicted Values:\")\n",
    "print(y_pred)"
   ]
  },
  {
   "cell_type": "markdown",
   "metadata": {},
   "source": [
    "Accuracy and Efficiency of our Model"
   ]
  },
  {
   "cell_type": "code",
   "execution_count": 35,
   "metadata": {},
   "outputs": [
    {
     "name": "stdout",
     "output_type": "stream",
     "text": [
      "\n",
      "accuracy score:95.833333\n",
      "recall score:100.000000\n",
      "roc score:96.666667\n",
      "[[14  1]\n",
      " [ 0  9]]\n"
     ]
    }
   ],
   "source": [
    "from sklearn.metrics import accuracy_score,recall_score,roc_auc_score,confusion_matrix\n",
    "print(\"\\naccuracy score:%f\"%(accuracy_score(y_test,y_pred)*100))\n",
    "print(\"recall score:%f\"%(recall_score(y_test,y_pred)*100))\n",
    "print(\"roc score:%f\"%(roc_auc_score(y_test,y_pred)*100))\n",
    "print(confusion_matrix(y_test,y_pred))"
   ]
  },
  {
   "cell_type": "markdown",
   "metadata": {},
   "source": [
    "Support Vector Classification to predict"
   ]
  },
  {
   "cell_type": "code",
   "execution_count": 36,
   "metadata": {},
   "outputs": [],
   "source": [
    "from sklearn.svm import SVC\n",
    "svc=SVC(kernel='rbf',probability=True)\n",
    "svc_classifier=svc.fit(x_train,y_train)\n",
    "svc_acc=cross_val_score(svc_classifier,x_train_std,y_train,cv=3,scoring=\"accuracy\",n_jobs=-1)\n",
    "svc_proba=cross_val_predict(svc_classifier,x_train_std,y_train,cv=3,method='predict_proba')"
   ]
  },
  {
   "cell_type": "code",
   "execution_count": 37,
   "metadata": {},
   "outputs": [
    {
     "data": {
      "text/plain": [
       "array([0.90625   , 0.77419355, 0.96774194])"
      ]
     },
     "execution_count": 37,
     "metadata": {},
     "output_type": "execute_result"
    }
   ],
   "source": [
    "svc_acc"
   ]
  },
  {
   "cell_type": "code",
   "execution_count": 38,
   "metadata": {},
   "outputs": [
    {
     "data": {
      "text/plain": [
       "array([[0.19736741, 0.80263259],\n",
       "       [0.47006816, 0.52993184],\n",
       "       [0.44525848, 0.55474152],\n",
       "       [0.63658763, 0.36341237],\n",
       "       [0.64142276, 0.35857724],\n",
       "       [0.2249938 , 0.7750062 ],\n",
       "       [0.80341217, 0.19658783],\n",
       "       [0.90226118, 0.09773882],\n",
       "       [0.78392154, 0.21607846],\n",
       "       [0.11317853, 0.88682147],\n",
       "       [0.16752374, 0.83247626],\n",
       "       [0.54224097, 0.45775903],\n",
       "       [0.14399068, 0.85600932],\n",
       "       [0.9879191 , 0.0120809 ],\n",
       "       [0.53131514, 0.46868486],\n",
       "       [0.1948512 , 0.8051488 ],\n",
       "       [0.55409632, 0.44590368],\n",
       "       [0.97031875, 0.02968125],\n",
       "       [0.15649619, 0.84350381],\n",
       "       [0.08967984, 0.91032016],\n",
       "       [0.07310872, 0.92689128],\n",
       "       [0.42505306, 0.57494694],\n",
       "       [0.74721143, 0.25278857],\n",
       "       [0.11607734, 0.88392266],\n",
       "       [0.91705951, 0.08294049],\n",
       "       [0.9311461 , 0.0688539 ],\n",
       "       [0.9544753 , 0.0455247 ],\n",
       "       [0.09624277, 0.90375723],\n",
       "       [0.20666372, 0.79333628],\n",
       "       [0.08630297, 0.91369703],\n",
       "       [0.95513852, 0.04486148],\n",
       "       [0.03980856, 0.96019144],\n",
       "       [0.95562252, 0.04437748],\n",
       "       [0.19169847, 0.80830153],\n",
       "       [0.81123487, 0.18876513],\n",
       "       [0.06414271, 0.93585729],\n",
       "       [0.5       , 0.5       ],\n",
       "       [0.14419016, 0.85580984],\n",
       "       [0.03189503, 0.96810497],\n",
       "       [0.11158629, 0.88841371],\n",
       "       [0.07247178, 0.92752822],\n",
       "       [0.9926037 , 0.0073963 ],\n",
       "       [0.10446314, 0.89553686],\n",
       "       [0.45254786, 0.54745214],\n",
       "       [0.60566781, 0.39433219],\n",
       "       [0.74191455, 0.25808545],\n",
       "       [0.09631229, 0.90368771],\n",
       "       [0.15458507, 0.84541493],\n",
       "       [0.23499039, 0.76500961],\n",
       "       [0.0053028 , 0.9946972 ],\n",
       "       [0.44398931, 0.55601069],\n",
       "       [0.11831545, 0.88168455],\n",
       "       [0.06603091, 0.93396909],\n",
       "       [0.75913095, 0.24086905],\n",
       "       [0.51792299, 0.48207701],\n",
       "       [0.55533089, 0.44466911],\n",
       "       [0.04636412, 0.95363588],\n",
       "       [0.59795275, 0.40204725],\n",
       "       [0.185135  , 0.814865  ],\n",
       "       [0.17284855, 0.82715145],\n",
       "       [0.24703004, 0.75296996],\n",
       "       [0.00454348, 0.99545652],\n",
       "       [0.35978595, 0.64021405],\n",
       "       [0.5234538 , 0.4765462 ],\n",
       "       [0.87693137, 0.12306863],\n",
       "       [0.19921401, 0.80078599],\n",
       "       [0.9087337 , 0.0912663 ],\n",
       "       [0.02258114, 0.97741886],\n",
       "       [0.12140894, 0.87859106],\n",
       "       [0.83967192, 0.16032808],\n",
       "       [0.05629824, 0.94370176],\n",
       "       [0.20218841, 0.79781159],\n",
       "       [0.97635027, 0.02364973],\n",
       "       [0.16262159, 0.83737841],\n",
       "       [0.93747507, 0.06252493],\n",
       "       [0.75285268, 0.24714732],\n",
       "       [0.18618131, 0.81381869],\n",
       "       [0.1870027 , 0.8129973 ],\n",
       "       [0.6278085 , 0.3721915 ],\n",
       "       [0.37493476, 0.62506524],\n",
       "       [0.03677191, 0.96322809],\n",
       "       [0.82291485, 0.17708515],\n",
       "       [0.17374319, 0.82625681],\n",
       "       [0.86361207, 0.13638793],\n",
       "       [0.96511125, 0.03488875],\n",
       "       [0.25998734, 0.74001266],\n",
       "       [0.30914374, 0.69085626],\n",
       "       [0.68898089, 0.31101911],\n",
       "       [0.83798527, 0.16201473],\n",
       "       [0.2122263 , 0.7877737 ],\n",
       "       [0.15117757, 0.84882243],\n",
       "       [0.91503818, 0.08496182],\n",
       "       [0.92947669, 0.07052331],\n",
       "       [0.92369999, 0.07630001]])"
      ]
     },
     "execution_count": 38,
     "metadata": {},
     "output_type": "execute_result"
    }
   ],
   "source": [
    "svc_proba\n"
   ]
  },
  {
   "cell_type": "code",
   "execution_count": 39,
   "metadata": {},
   "outputs": [
    {
     "data": {
      "text/plain": [
       "array([0.80263259, 0.52993184, 0.55474152, 0.36341237, 0.35857724,\n",
       "       0.7750062 , 0.19658783, 0.09773882, 0.21607846, 0.88682147,\n",
       "       0.83247626, 0.45775903, 0.85600932, 0.0120809 , 0.46868486,\n",
       "       0.8051488 , 0.44590368, 0.02968125, 0.84350381, 0.91032016,\n",
       "       0.92689128, 0.57494694, 0.25278857, 0.88392266, 0.08294049,\n",
       "       0.0688539 , 0.0455247 , 0.90375723, 0.79333628, 0.91369703,\n",
       "       0.04486148, 0.96019144, 0.04437748, 0.80830153, 0.18876513,\n",
       "       0.93585729, 0.5       , 0.85580984, 0.96810497, 0.88841371,\n",
       "       0.92752822, 0.0073963 , 0.89553686, 0.54745214, 0.39433219,\n",
       "       0.25808545, 0.90368771, 0.84541493, 0.76500961, 0.9946972 ,\n",
       "       0.55601069, 0.88168455, 0.93396909, 0.24086905, 0.48207701,\n",
       "       0.44466911, 0.95363588, 0.40204725, 0.814865  , 0.82715145,\n",
       "       0.75296996, 0.99545652, 0.64021405, 0.4765462 , 0.12306863,\n",
       "       0.80078599, 0.0912663 , 0.97741886, 0.87859106, 0.16032808,\n",
       "       0.94370176, 0.79781159, 0.02364973, 0.83737841, 0.06252493,\n",
       "       0.24714732, 0.81381869, 0.8129973 , 0.3721915 , 0.62506524,\n",
       "       0.96322809, 0.17708515, 0.82625681, 0.13638793, 0.03488875,\n",
       "       0.74001266, 0.69085626, 0.31101911, 0.16201473, 0.7877737 ,\n",
       "       0.84882243, 0.08496182, 0.07052331, 0.07630001])"
      ]
     },
     "execution_count": 39,
     "metadata": {},
     "output_type": "execute_result"
    }
   ],
   "source": [
    "svc_scores=svc_proba[:,1]\n",
    "svc_scores"
   ]
  },
  {
   "cell_type": "code",
   "execution_count": 40,
   "metadata": {},
   "outputs": [
    {
     "name": "stdout",
     "output_type": "stream",
     "text": [
      "Actual Flood Values:\n",
      "[0 0 1 1 0 0 1 0 1 0 0 0 0 1 0 0 1 1 0 1 0 1 0 0]\n"
     ]
    }
   ],
   "source": [
    "y_pred=svc_classifier.predict(x_test)\n",
    "print(\"Actual Flood Values:\")\n",
    "print(y_test.values)"
   ]
  },
  {
   "cell_type": "code",
   "execution_count": 41,
   "metadata": {},
   "outputs": [
    {
     "name": "stdout",
     "output_type": "stream",
     "text": [
      "Predicted Flood Values:\n",
      "[0 0 1 1 0 0 1 1 1 1 1 0 1 1 0 0 1 1 0 1 1 1 0 0]\n"
     ]
    }
   ],
   "source": [
    "print(\"Predicted Flood Values:\")\n",
    "print(y_pred)"
   ]
  },
  {
   "cell_type": "markdown",
   "metadata": {},
   "source": [
    "Accuracy of our model\n"
   ]
  },
  {
   "cell_type": "code",
   "execution_count": 42,
   "metadata": {},
   "outputs": [
    {
     "name": "stdout",
     "output_type": "stream",
     "text": [
      "\n",
      "accuracy score: 79.166667\n",
      "recall score: 100.000000\n",
      "roc score: 83.333333\n",
      "[[10  5]\n",
      " [ 0  9]]\n"
     ]
    }
   ],
   "source": [
    "from sklearn.metrics import accuracy_score,recall_score,roc_auc_score,confusion_matrix\n",
    "print(\"\\naccuracy score: %f\"%(accuracy_score(y_test,y_pred)*100))\n",
    "print(\"recall score: %f\"%(recall_score(y_test,y_pred)*100))\n",
    "print(\"roc score: %f\"%(roc_auc_score(y_test,y_pred)*100))\n",
    "print(confusion_matrix(y_test,y_pred))"
   ]
  },
  {
   "cell_type": "markdown",
   "metadata": {},
   "source": [
    "## Decision Tree Classification to Predict"
   ]
  },
  {
   "cell_type": "code",
   "execution_count": 43,
   "metadata": {},
   "outputs": [
    {
     "data": {
      "text/plain": [
       "array([0.6875    , 0.70967742, 0.70967742])"
      ]
     },
     "execution_count": 43,
     "metadata": {},
     "output_type": "execute_result"
    }
   ],
   "source": [
    "from sklearn.tree import DecisionTreeClassifier\n",
    "dtc_clf=DecisionTreeClassifier()\n",
    "dtc_clf.fit(x_train,y_train)\n",
    "dtc_clf_acc=cross_val_score(dtc_clf,x_train_std,y_train,cv=3,scoring=\"accuracy\",n_jobs=-1)\n",
    "dtc_clf_acc"
   ]
  },
  {
   "cell_type": "code",
   "execution_count": 44,
   "metadata": {},
   "outputs": [
    {
     "name": "stdout",
     "output_type": "stream",
     "text": [
      "Predicted Values:\n"
     ]
    },
    {
     "data": {
      "text/plain": [
       "array([1, 0, 1, 1, 1, 0, 0, 1, 0, 1, 1, 1, 0, 1, 1, 0, 1, 1, 1, 1, 1, 1,\n",
       "       0, 0])"
      ]
     },
     "execution_count": 44,
     "metadata": {},
     "output_type": "execute_result"
    }
   ],
   "source": [
    "print(\"Predicted Values:\")\n",
    "y_pred=dtc_clf.predict(x_test)\n",
    "y_pred"
   ]
  },
  {
   "cell_type": "code",
   "execution_count": 45,
   "metadata": {},
   "outputs": [
    {
     "name": "stdout",
     "output_type": "stream",
     "text": [
      "Actual Values:\n",
      "[0 0 1 1 0 0 1 0 1 0 0 0 0 1 0 0 1 1 0 1 0 1 0 0]\n"
     ]
    }
   ],
   "source": [
    "print(\"Actual Values:\")\n",
    "print(y_test.values)"
   ]
  },
  {
   "cell_type": "markdown",
   "metadata": {},
   "source": [
    "Printing the Accuracy\n"
   ]
  },
  {
   "cell_type": "code",
   "execution_count": 46,
   "metadata": {},
   "outputs": [
    {
     "name": "stdout",
     "output_type": "stream",
     "text": [
      "\n",
      "accuracy score: 54.166667\n",
      "recall score: 77.777778\n",
      "roc score: 58.888889\n",
      "[[6 9]\n",
      " [2 7]]\n"
     ]
    }
   ],
   "source": [
    "from sklearn.metrics import accuracy_score,recall_score,roc_auc_score,confusion_matrix\n",
    "print(\"\\naccuracy score: %f\"%(accuracy_score(y_test,y_pred)*100))\n",
    "print(\"recall score: %f\"%(recall_score(y_test,y_pred)*100))\n",
    "print(\"roc score: %f\"%(roc_auc_score(y_test,y_pred)*100))\n",
    "print(confusion_matrix(y_test,y_pred))"
   ]
  },
  {
   "cell_type": "markdown",
   "metadata": {},
   "source": [
    "## Random Forest Classifier to predict"
   ]
  },
  {
   "cell_type": "code",
   "execution_count": 47,
   "metadata": {},
   "outputs": [
    {
     "data": {
      "text/html": [
       "<style>#sk-container-id-2 {color: black;}#sk-container-id-2 pre{padding: 0;}#sk-container-id-2 div.sk-toggleable {background-color: white;}#sk-container-id-2 label.sk-toggleable__label {cursor: pointer;display: block;width: 100%;margin-bottom: 0;padding: 0.3em;box-sizing: border-box;text-align: center;}#sk-container-id-2 label.sk-toggleable__label-arrow:before {content: \"▸\";float: left;margin-right: 0.25em;color: #696969;}#sk-container-id-2 label.sk-toggleable__label-arrow:hover:before {color: black;}#sk-container-id-2 div.sk-estimator:hover label.sk-toggleable__label-arrow:before {color: black;}#sk-container-id-2 div.sk-toggleable__content {max-height: 0;max-width: 0;overflow: hidden;text-align: left;background-color: #f0f8ff;}#sk-container-id-2 div.sk-toggleable__content pre {margin: 0.2em;color: black;border-radius: 0.25em;background-color: #f0f8ff;}#sk-container-id-2 input.sk-toggleable__control:checked~div.sk-toggleable__content {max-height: 200px;max-width: 100%;overflow: auto;}#sk-container-id-2 input.sk-toggleable__control:checked~label.sk-toggleable__label-arrow:before {content: \"▾\";}#sk-container-id-2 div.sk-estimator input.sk-toggleable__control:checked~label.sk-toggleable__label {background-color: #d4ebff;}#sk-container-id-2 div.sk-label input.sk-toggleable__control:checked~label.sk-toggleable__label {background-color: #d4ebff;}#sk-container-id-2 input.sk-hidden--visually {border: 0;clip: rect(1px 1px 1px 1px);clip: rect(1px, 1px, 1px, 1px);height: 1px;margin: -1px;overflow: hidden;padding: 0;position: absolute;width: 1px;}#sk-container-id-2 div.sk-estimator {font-family: monospace;background-color: #f0f8ff;border: 1px dotted black;border-radius: 0.25em;box-sizing: border-box;margin-bottom: 0.5em;}#sk-container-id-2 div.sk-estimator:hover {background-color: #d4ebff;}#sk-container-id-2 div.sk-parallel-item::after {content: \"\";width: 100%;border-bottom: 1px solid gray;flex-grow: 1;}#sk-container-id-2 div.sk-label:hover label.sk-toggleable__label {background-color: #d4ebff;}#sk-container-id-2 div.sk-serial::before {content: \"\";position: absolute;border-left: 1px solid gray;box-sizing: border-box;top: 0;bottom: 0;left: 50%;z-index: 0;}#sk-container-id-2 div.sk-serial {display: flex;flex-direction: column;align-items: center;background-color: white;padding-right: 0.2em;padding-left: 0.2em;position: relative;}#sk-container-id-2 div.sk-item {position: relative;z-index: 1;}#sk-container-id-2 div.sk-parallel {display: flex;align-items: stretch;justify-content: center;background-color: white;position: relative;}#sk-container-id-2 div.sk-item::before, #sk-container-id-2 div.sk-parallel-item::before {content: \"\";position: absolute;border-left: 1px solid gray;box-sizing: border-box;top: 0;bottom: 0;left: 50%;z-index: -1;}#sk-container-id-2 div.sk-parallel-item {display: flex;flex-direction: column;z-index: 1;position: relative;background-color: white;}#sk-container-id-2 div.sk-parallel-item:first-child::after {align-self: flex-end;width: 50%;}#sk-container-id-2 div.sk-parallel-item:last-child::after {align-self: flex-start;width: 50%;}#sk-container-id-2 div.sk-parallel-item:only-child::after {width: 0;}#sk-container-id-2 div.sk-dashed-wrapped {border: 1px dashed gray;margin: 0 0.4em 0.5em 0.4em;box-sizing: border-box;padding-bottom: 0.4em;background-color: white;}#sk-container-id-2 div.sk-label label {font-family: monospace;font-weight: bold;display: inline-block;line-height: 1.2em;}#sk-container-id-2 div.sk-label-container {text-align: center;}#sk-container-id-2 div.sk-container {/* jupyter's `normalize.less` sets `[hidden] { display: none; }` but bootstrap.min.css set `[hidden] { display: none !important; }` so we also need the `!important` here to be able to override the default hidden behavior on the sphinx rendered scikit-learn.org. See: https://github.com/scikit-learn/scikit-learn/issues/21755 */display: inline-block !important;position: relative;}#sk-container-id-2 div.sk-text-repr-fallback {display: none;}</style><div id=\"sk-container-id-2\" class=\"sk-top-container\"><div class=\"sk-text-repr-fallback\"><pre>RandomForestClassifier(max_depth=3, random_state=0)</pre><b>In a Jupyter environment, please rerun this cell to show the HTML representation or trust the notebook. <br />On GitHub, the HTML representation is unable to render, please try loading this page with nbviewer.org.</b></div><div class=\"sk-container\" hidden><div class=\"sk-item\"><div class=\"sk-estimator sk-toggleable\"><input class=\"sk-toggleable__control sk-hidden--visually\" id=\"sk-estimator-id-2\" type=\"checkbox\" checked><label for=\"sk-estimator-id-2\" class=\"sk-toggleable__label sk-toggleable__label-arrow\">RandomForestClassifier</label><div class=\"sk-toggleable__content\"><pre>RandomForestClassifier(max_depth=3, random_state=0)</pre></div></div></div></div></div>"
      ],
      "text/plain": [
       "RandomForestClassifier(max_depth=3, random_state=0)"
      ]
     },
     "execution_count": 47,
     "metadata": {},
     "output_type": "execute_result"
    }
   ],
   "source": [
    "from sklearn.ensemble import RandomForestClassifier\n",
    "rmf=RandomForestClassifier(max_depth=3,random_state=0)\n",
    "rmf_clf=rmf.fit(x_train,y_train)\n",
    "rmf_clf"
   ]
  },
  {
   "cell_type": "code",
   "execution_count": 48,
   "metadata": {},
   "outputs": [],
   "source": [
    "rmf_clf_acc=cross_val_score(rmf_clf,x_train_std,y_train,cv=3,scoring=\"accuracy\",n_jobs=-1)\n",
    "rmf_proba=cross_val_predict(rmf_clf,x_train_std,y_train,cv=3,method='predict_proba')"
   ]
  },
  {
   "cell_type": "code",
   "execution_count": 49,
   "metadata": {},
   "outputs": [
    {
     "data": {
      "text/plain": [
       "array([0.90625   , 0.61290323, 0.96774194])"
      ]
     },
     "execution_count": 49,
     "metadata": {},
     "output_type": "execute_result"
    }
   ],
   "source": [
    "rmf_clf_acc\n"
   ]
  },
  {
   "cell_type": "code",
   "execution_count": 50,
   "metadata": {},
   "outputs": [
    {
     "data": {
      "text/plain": [
       "array([[0.43313304, 0.56686696],\n",
       "       [0.52217877, 0.47782123],\n",
       "       [0.45425273, 0.54574727],\n",
       "       [0.56028748, 0.43971252],\n",
       "       [0.6662442 , 0.3337558 ],\n",
       "       [0.26751864, 0.73248136],\n",
       "       [0.4832338 , 0.5167662 ],\n",
       "       [0.59524048, 0.40475952],\n",
       "       [0.55852391, 0.44147609],\n",
       "       [0.26491953, 0.73508047],\n",
       "       [0.32855715, 0.67144285],\n",
       "       [0.43881519, 0.56118481],\n",
       "       [0.33980111, 0.66019889],\n",
       "       [0.76570759, 0.23429241],\n",
       "       [0.40580157, 0.59419843],\n",
       "       [0.29087807, 0.70912193],\n",
       "       [0.51365161, 0.48634839],\n",
       "       [0.76425001, 0.23574999],\n",
       "       [0.3178313 , 0.6821687 ],\n",
       "       [0.30790162, 0.69209838],\n",
       "       [0.4280096 , 0.5719904 ],\n",
       "       [0.32670968, 0.67329032],\n",
       "       [0.68516599, 0.31483401],\n",
       "       [0.27323363, 0.72676637],\n",
       "       [0.6887009 , 0.3112991 ],\n",
       "       [0.69101094, 0.30898906],\n",
       "       [0.77915221, 0.22084779],\n",
       "       [0.43820682, 0.56179318],\n",
       "       [0.47740862, 0.52259138],\n",
       "       [0.30590311, 0.69409689],\n",
       "       [0.7958133 , 0.2041867 ],\n",
       "       [0.32298055, 0.67701945],\n",
       "       [0.67186069, 0.32813931],\n",
       "       [0.42845469, 0.57154531],\n",
       "       [0.4912296 , 0.5087704 ],\n",
       "       [0.11491648, 0.88508352],\n",
       "       [0.54471669, 0.45528331],\n",
       "       [0.43764664, 0.56235336],\n",
       "       [0.20649954, 0.79350046],\n",
       "       [0.33842084, 0.66157916],\n",
       "       [0.3256146 , 0.6743854 ],\n",
       "       [0.72514686, 0.27485314],\n",
       "       [0.53647675, 0.46352325],\n",
       "       [0.45219383, 0.54780617],\n",
       "       [0.53687959, 0.46312041],\n",
       "       [0.49693276, 0.50306724],\n",
       "       [0.30614647, 0.69385353],\n",
       "       [0.49226434, 0.50773566],\n",
       "       [0.62861019, 0.37138981],\n",
       "       [0.21373692, 0.78626308],\n",
       "       [0.43711142, 0.56288858],\n",
       "       [0.38186353, 0.61813647],\n",
       "       [0.39689003, 0.60310997],\n",
       "       [0.51648762, 0.48351238],\n",
       "       [0.39529034, 0.60470966],\n",
       "       [0.37160656, 0.62839344],\n",
       "       [0.2790192 , 0.7209808 ],\n",
       "       [0.50814882, 0.49185118],\n",
       "       [0.40330001, 0.59669999],\n",
       "       [0.3333058 , 0.6666942 ],\n",
       "       [0.30515029, 0.69484971],\n",
       "       [0.07166209, 0.92833791],\n",
       "       [0.40524054, 0.59475946],\n",
       "       [0.51258486, 0.48741514],\n",
       "       [0.65648813, 0.34351187],\n",
       "       [0.41708194, 0.58291806],\n",
       "       [0.60383723, 0.39616277],\n",
       "       [0.23710904, 0.76289096],\n",
       "       [0.30661077, 0.69338923],\n",
       "       [0.59287302, 0.40712698],\n",
       "       [0.18521166, 0.81478834],\n",
       "       [0.42629496, 0.57370504],\n",
       "       [0.68271399, 0.31728601],\n",
       "       [0.18059173, 0.81940827],\n",
       "       [0.74893383, 0.25106617],\n",
       "       [0.64148444, 0.35851556],\n",
       "       [0.35815987, 0.64184013],\n",
       "       [0.3435865 , 0.6564135 ],\n",
       "       [0.55821073, 0.44178927],\n",
       "       [0.46115903, 0.53884097],\n",
       "       [0.23383403, 0.76616597],\n",
       "       [0.6809437 , 0.3190563 ],\n",
       "       [0.23240579, 0.76759421],\n",
       "       [0.68294133, 0.31705867],\n",
       "       [0.78546498, 0.21453502],\n",
       "       [0.36031981, 0.63968019],\n",
       "       [0.49016994, 0.50983006],\n",
       "       [0.64919995, 0.35080005],\n",
       "       [0.63349286, 0.36650714],\n",
       "       [0.47775147, 0.52224853],\n",
       "       [0.35918142, 0.64081858],\n",
       "       [0.72878497, 0.27121503],\n",
       "       [0.82442613, 0.17557387],\n",
       "       [0.71207008, 0.28792992]])"
      ]
     },
     "execution_count": 50,
     "metadata": {},
     "output_type": "execute_result"
    }
   ],
   "source": [
    "rmf_proba"
   ]
  },
  {
   "cell_type": "code",
   "execution_count": 51,
   "metadata": {},
   "outputs": [
    {
     "name": "stdout",
     "output_type": "stream",
     "text": [
      "\n",
      "accuracy score: 54.166667\n",
      "recall score: 77.777778\n",
      "roc score: 58.888889\n",
      "[[6 9]\n",
      " [2 7]]\n"
     ]
    }
   ],
   "source": [
    "from sklearn.metrics import accuracy_score,recall_score,roc_auc_score,confusion_matrix\n",
    "print(\"\\naccuracy score: %f\"%(accuracy_score(y_test,y_pred)*100))\n",
    "print(\"recall score: %f\"%(recall_score(y_test,y_pred)*100))\n",
    "print(\"roc score: %f\"%(roc_auc_score(y_test,y_pred)*100))\n",
    "print(confusion_matrix(y_test,y_pred))"
   ]
  },
  {
   "cell_type": "markdown",
   "metadata": {},
   "source": [
    "## Final Accuracy of our Models\n"
   ]
  },
  {
   "cell_type": "markdown",
   "metadata": {},
   "source": [
    "### Comparing all the prediction models"
   ]
  },
  {
   "cell_type": "code",
   "execution_count": 52,
   "metadata": {},
   "outputs": [
    {
     "data": {
      "text/html": [
       "<div>\n",
       "<style scoped>\n",
       "    .dataframe tbody tr th:only-of-type {\n",
       "        vertical-align: middle;\n",
       "    }\n",
       "\n",
       "    .dataframe tbody tr th {\n",
       "        vertical-align: top;\n",
       "    }\n",
       "\n",
       "    .dataframe thead th {\n",
       "        text-align: right;\n",
       "    }\n",
       "</style>\n",
       "<table border=\"1\" class=\"dataframe\">\n",
       "  <thead>\n",
       "    <tr style=\"text-align: right;\">\n",
       "      <th></th>\n",
       "      <th>Name</th>\n",
       "      <th>Score</th>\n",
       "    </tr>\n",
       "  </thead>\n",
       "  <tbody>\n",
       "    <tr>\n",
       "      <th>0</th>\n",
       "      <td>KNN</td>\n",
       "      <td>0.875000</td>\n",
       "    </tr>\n",
       "    <tr>\n",
       "      <th>1</th>\n",
       "      <td>LR</td>\n",
       "      <td>0.958333</td>\n",
       "    </tr>\n",
       "    <tr>\n",
       "      <th>2</th>\n",
       "      <td>SVC</td>\n",
       "      <td>0.791667</td>\n",
       "    </tr>\n",
       "    <tr>\n",
       "      <th>3</th>\n",
       "      <td>DT</td>\n",
       "      <td>0.583333</td>\n",
       "    </tr>\n",
       "    <tr>\n",
       "      <th>4</th>\n",
       "      <td>RF</td>\n",
       "      <td>0.791667</td>\n",
       "    </tr>\n",
       "  </tbody>\n",
       "</table>\n",
       "</div>"
      ],
      "text/plain": [
       "  Name     Score\n",
       "0  KNN  0.875000\n",
       "1   LR  0.958333\n",
       "2  SVC  0.791667\n",
       "3   DT  0.583333\n",
       "4   RF  0.791667"
      ]
     },
     "execution_count": 52,
     "metadata": {},
     "output_type": "execute_result"
    }
   ],
   "source": [
    "models = []\n",
    "from sklearn.neighbors import KNeighborsClassifier\n",
    "from sklearn.svm import SVC\n",
    "from sklearn.linear_model import LogisticRegression\n",
    "from sklearn.tree import DecisionTreeClassifier\n",
    "from sklearn.naive_bayes import GaussianNB\n",
    "from sklearn.ensemble import RandomForestClassifier\n",
    "from sklearn.ensemble import GradientBoostingClassifier\n",
    "models.append(('KNN', KNeighborsClassifier()))\n",
    "models.append(('LR', LogisticRegression()))\n",
    "models.append(('SVC', SVC()))\n",
    "models.append(('DT', DecisionTreeClassifier()))\n",
    "models.append(('RF', RandomForestClassifier()))\n",
    "\n",
    "names = []\n",
    "scores = []\n",
    "for name, model in models:\n",
    "    model.fit(x_train, y_train)\n",
    "    y_pred = model.predict(x_test)\n",
    "    scores.append(accuracy_score(y_test, y_pred))\n",
    "    names.append(name)\n",
    "tr_split = pd.DataFrame({'Name': names, 'Score': scores})\n",
    "tr_split"
   ]
  },
  {
   "cell_type": "code",
   "execution_count": 53,
   "metadata": {},
   "outputs": [
    {
     "data": {
      "image/png": "[encoded data removed]",
      "text/plain": [
       "<Figure size 640x480 with 1 Axes>"
      ]
     },
     "metadata": {},
     "output_type": "display_data"
    }
   ],
   "source": [
    "import seaborn as sns\n",
    "axis = sns.barplot(x = 'Name', y = 'Score', data =tr_split )\n",
    "axis.set(xlabel='Classifier Models', ylabel='Accuracy of the Model')\n",
    "for p in axis.patches:\n",
    "    height = p.get_height()\n",
    "    axis.text(p.get_x() + p.get_width()/2, height + 0.01, '{:1.4f}'.format(height), ha=\"center\") \n",
    "    \n",
    "plt.show()"
   ]
  },
  {
   "cell_type": "code",
   "execution_count": 54,
   "metadata": {},
   "outputs": [
    {
     "data": {
      "text/plain": [
       "0.9583333333333334"
      ]
     },
     "execution_count": 54,
     "metadata": {},
     "output_type": "execute_result"
    }
   ],
   "source": [
    "tr_split['Score'].max() "
   ]
  },
  {
   "cell_type": "code",
   "execution_count": 55,
   "metadata": {},
   "outputs": [],
   "source": [
    "import pickle\n",
    "\n",
    "# Trained models\n",
    "knn_model = clf\n",
    "lr_model = lr\n",
    "svc_model = svc_classifier\n",
    "dtc_model = dtc_clf\n",
    "rmf_model = rmf_clf\n",
    "\n",
    "# Save models to pickle file\n",
    "with open('flood_model.pkl', 'wb') as file:\n",
    "    pickle.dump({\n",
    "        'KNN': knn_model,\n",
    "        'LogisticRegression': lr_model,\n",
    "        'SVC': svc_model,\n",
    "        'DecisionTree': dtc_model,\n",
    "        'RandomForest': rmf_model\n",
    "    }, file)\n"
   ]
  },
  {
   "cell_type": "code",
   "execution_count": 56,
   "metadata": {},
   "outputs": [],
   "source": [
    "# Load models from pickle file\n",
    "with open('flood_model.pkl', 'rb') as file:\n",
    "    loaded_models = pickle.load(file)\n",
    "\n",
    "# Access individual models\n",
    "loaded_knn_model = loaded_models['KNN']\n",
    "loaded_lr_model = loaded_models['LogisticRegression']\n",
    "loaded_svc_model = loaded_models['SVC']\n",
    "loaded_dtc_model = loaded_models['DecisionTree']\n",
    "loaded_rmf_model = loaded_models['RandomForest']\n"
   ]
  },
  {
   "cell_type": "code",
   "execution_count": 57,
   "metadata": {},
   "outputs": [
    {
     "name": "stdout",
     "output_type": "stream",
     "text": [
      "[1]\n",
      "[1]\n",
      "[1]\n",
      "[1]\n",
      "[1]\n"
     ]
    }
   ],
   "source": [
    "new_data_point = np.array([2023, 28.7, 44.7, 51.6, 160, 174.7, 824.6, 743, 357.5, 197.7, 266.9, 350.8, 48.4]).reshape(1, -1)\n",
    "# new_data_point = np.array([1917,2.9,47.6,79.4,38.1,122.9,703.7,342.7,335.1,470.3,264.1,256.4,41.6]).reshape(1, -1)\n",
    "knn_predictions = loaded_lr_model.predict(new_data_point)\n",
    "\n",
    "knn_predictions = loaded_knn_model.predict(new_data_point)\n",
    "lr_predictions = loaded_lr_model.predict(new_data_point)\n",
    "svd_predictions = loaded_svc_model.predict(new_data_point)\n",
    "dtc_predictions = loaded_dtc_model.predict(new_data_point)\n",
    "rmf_predictions = loaded_rmf_model.predict(new_data_point)\n",
    "\n",
    "print(knn_predictions)\n",
    "print(lr_predictions)\n",
    "print(svd_predictions)\n",
    "print(dtc_predictions)\n",
    "print(rmf_predictions)\n"
   ]
  }
 ],
 "metadata": {
  "kernelspec": {
   "display_name": "disaster",
   "language": "python",
   "name": "python3"
  },
  "language_info": {
   "codemirror_mode": {
    "name": "ipython",
    "version": 3
   },
   "file_extension": ".py",
   "mimetype": "text/x-python",
   "name": "python",
   "nbconvert_exporter": "python",
   "pygments_lexer": "ipython3",
   "version": "3.9.13"
  }
 },
 "nbformat": 4,
 "nbformat_minor": 2
}
