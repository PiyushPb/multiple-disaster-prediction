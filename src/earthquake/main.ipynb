{
 "cells": [
  {
   "cell_type": "code",
   "execution_count": 1,
   "metadata": {},
   "outputs": [
    {
     "name": "stdout",
     "output_type": "stream",
     "text": [
      "      Latitude  Longitude  Depth  Magnitude\n",
      "0        29.06      77.42    5.0        2.5\n",
      "1        19.93      72.92    5.0        2.4\n",
      "2        31.50      74.37   33.0        3.4\n",
      "3        28.34      76.23    5.0        3.1\n",
      "4        27.09      89.97   10.0        2.1\n",
      "...        ...        ...    ...        ...\n",
      "2714     12.30      94.80   10.0        4.8\n",
      "2715     24.70      94.30   40.0        4.1\n",
      "2716     22.50      88.10   10.0        3.6\n",
      "2717     24.60      94.20   54.0        3.5\n",
      "2718     14.50      92.90   10.0        4.6\n",
      "\n",
      "[2719 rows x 4 columns]\n"
     ]
    }
   ],
   "source": [
    "import numpy as np\n",
    "import pandas as pd\n",
    "from sklearn import metrics\n",
    "from sklearn.model_selection import train_test_split\n",
    "data = pd.read_csv('../data/earthquake.csv')\n",
    "print(data)"
   ]
  },
  {
   "cell_type": "code",
   "execution_count": 2,
   "metadata": {},
   "outputs": [
    {
     "data": {
      "text/html": [
       "<div>\n",
       "<style scoped>\n",
       "    .dataframe tbody tr th:only-of-type {\n",
       "        vertical-align: middle;\n",
       "    }\n",
       "\n",
       "    .dataframe tbody tr th {\n",
       "        vertical-align: top;\n",
       "    }\n",
       "\n",
       "    .dataframe thead th {\n",
       "        text-align: right;\n",
       "    }\n",
       "</style>\n",
       "<table border=\"1\" class=\"dataframe\">\n",
       "  <thead>\n",
       "    <tr style=\"text-align: right;\">\n",
       "      <th></th>\n",
       "      <th>Latitude</th>\n",
       "      <th>Longitude</th>\n",
       "      <th>Depth</th>\n",
       "      <th>Magnitude</th>\n",
       "    </tr>\n",
       "  </thead>\n",
       "  <tbody>\n",
       "    <tr>\n",
       "      <th>0</th>\n",
       "      <td>29.06</td>\n",
       "      <td>77.42</td>\n",
       "      <td>5.0</td>\n",
       "      <td>2.5</td>\n",
       "    </tr>\n",
       "    <tr>\n",
       "      <th>1</th>\n",
       "      <td>19.93</td>\n",
       "      <td>72.92</td>\n",
       "      <td>5.0</td>\n",
       "      <td>2.4</td>\n",
       "    </tr>\n",
       "    <tr>\n",
       "      <th>2</th>\n",
       "      <td>31.50</td>\n",
       "      <td>74.37</td>\n",
       "      <td>33.0</td>\n",
       "      <td>3.4</td>\n",
       "    </tr>\n",
       "    <tr>\n",
       "      <th>3</th>\n",
       "      <td>28.34</td>\n",
       "      <td>76.23</td>\n",
       "      <td>5.0</td>\n",
       "      <td>3.1</td>\n",
       "    </tr>\n",
       "    <tr>\n",
       "      <th>4</th>\n",
       "      <td>27.09</td>\n",
       "      <td>89.97</td>\n",
       "      <td>10.0</td>\n",
       "      <td>2.1</td>\n",
       "    </tr>\n",
       "  </tbody>\n",
       "</table>\n",
       "</div>"
      ],
      "text/plain": [
       "   Latitude  Longitude  Depth  Magnitude\n",
       "0     29.06      77.42    5.0        2.5\n",
       "1     19.93      72.92    5.0        2.4\n",
       "2     31.50      74.37   33.0        3.4\n",
       "3     28.34      76.23    5.0        3.1\n",
       "4     27.09      89.97   10.0        2.1"
      ]
     },
     "execution_count": 2,
     "metadata": {},
     "output_type": "execute_result"
    }
   ],
   "source": [
    "data.head()"
   ]
  },
  {
   "cell_type": "code",
   "execution_count": 3,
   "metadata": {},
   "outputs": [
    {
     "data": {
      "text/html": [
       "<div>\n",
       "<style scoped>\n",
       "    .dataframe tbody tr th:only-of-type {\n",
       "        vertical-align: middle;\n",
       "    }\n",
       "\n",
       "    .dataframe tbody tr th {\n",
       "        vertical-align: top;\n",
       "    }\n",
       "\n",
       "    .dataframe thead th {\n",
       "        text-align: right;\n",
       "    }\n",
       "</style>\n",
       "<table border=\"1\" class=\"dataframe\">\n",
       "  <thead>\n",
       "    <tr style=\"text-align: right;\">\n",
       "      <th></th>\n",
       "      <th>Latitude</th>\n",
       "      <th>Longitude</th>\n",
       "      <th>Depth</th>\n",
       "      <th>Magnitude</th>\n",
       "    </tr>\n",
       "  </thead>\n",
       "  <tbody>\n",
       "    <tr>\n",
       "      <th>2714</th>\n",
       "      <td>12.3</td>\n",
       "      <td>94.8</td>\n",
       "      <td>10.0</td>\n",
       "      <td>4.8</td>\n",
       "    </tr>\n",
       "    <tr>\n",
       "      <th>2715</th>\n",
       "      <td>24.7</td>\n",
       "      <td>94.3</td>\n",
       "      <td>40.0</td>\n",
       "      <td>4.1</td>\n",
       "    </tr>\n",
       "    <tr>\n",
       "      <th>2716</th>\n",
       "      <td>22.5</td>\n",
       "      <td>88.1</td>\n",
       "      <td>10.0</td>\n",
       "      <td>3.6</td>\n",
       "    </tr>\n",
       "    <tr>\n",
       "      <th>2717</th>\n",
       "      <td>24.6</td>\n",
       "      <td>94.2</td>\n",
       "      <td>54.0</td>\n",
       "      <td>3.5</td>\n",
       "    </tr>\n",
       "    <tr>\n",
       "      <th>2718</th>\n",
       "      <td>14.5</td>\n",
       "      <td>92.9</td>\n",
       "      <td>10.0</td>\n",
       "      <td>4.6</td>\n",
       "    </tr>\n",
       "  </tbody>\n",
       "</table>\n",
       "</div>"
      ],
      "text/plain": [
       "      Latitude  Longitude  Depth  Magnitude\n",
       "2714      12.3       94.8   10.0        4.8\n",
       "2715      24.7       94.3   40.0        4.1\n",
       "2716      22.5       88.1   10.0        3.6\n",
       "2717      24.6       94.2   54.0        3.5\n",
       "2718      14.5       92.9   10.0        4.6"
      ]
     },
     "execution_count": 3,
     "metadata": {},
     "output_type": "execute_result"
    }
   ],
   "source": [
    "data.tail()"
   ]
  },
  {
   "cell_type": "code",
   "execution_count": 4,
   "metadata": {},
   "outputs": [
    {
     "data": {
      "text/plain": [
       "Latitude     0\n",
       "Longitude    0\n",
       "Depth        0\n",
       "Magnitude    0\n",
       "dtype: int64"
      ]
     },
     "execution_count": 4,
     "metadata": {},
     "output_type": "execute_result"
    }
   ],
   "source": [
    "data.isnull().sum()"
   ]
  },
  {
   "cell_type": "markdown",
   "metadata": {},
   "source": [
    "# Analyzing the Dataset"
   ]
  },
  {
   "cell_type": "code",
   "execution_count": 5,
   "metadata": {},
   "outputs": [
    {
     "name": "stdout",
     "output_type": "stream",
     "text": [
      "(2719, 4)\n"
     ]
    }
   ],
   "source": [
    "print(data.shape)"
   ]
  },
  {
   "cell_type": "code",
   "execution_count": 6,
   "metadata": {},
   "outputs": [
    {
     "data": {
      "text/html": [
       "<div>\n",
       "<style scoped>\n",
       "    .dataframe tbody tr th:only-of-type {\n",
       "        vertical-align: middle;\n",
       "    }\n",
       "\n",
       "    .dataframe tbody tr th {\n",
       "        vertical-align: top;\n",
       "    }\n",
       "\n",
       "    .dataframe thead th {\n",
       "        text-align: right;\n",
       "    }\n",
       "</style>\n",
       "<table border=\"1\" class=\"dataframe\">\n",
       "  <thead>\n",
       "    <tr style=\"text-align: right;\">\n",
       "      <th></th>\n",
       "      <th>Latitude</th>\n",
       "      <th>Longitude</th>\n",
       "      <th>Depth</th>\n",
       "      <th>Magnitude</th>\n",
       "    </tr>\n",
       "  </thead>\n",
       "  <tbody>\n",
       "    <tr>\n",
       "      <th>count</th>\n",
       "      <td>2719.000000</td>\n",
       "      <td>2719.000000</td>\n",
       "      <td>2719.000000</td>\n",
       "      <td>2719.000000</td>\n",
       "    </tr>\n",
       "    <tr>\n",
       "      <th>mean</th>\n",
       "      <td>29.939433</td>\n",
       "      <td>80.905638</td>\n",
       "      <td>53.400478</td>\n",
       "      <td>3.772196</td>\n",
       "    </tr>\n",
       "    <tr>\n",
       "      <th>std</th>\n",
       "      <td>7.361564</td>\n",
       "      <td>10.139075</td>\n",
       "      <td>68.239737</td>\n",
       "      <td>0.768076</td>\n",
       "    </tr>\n",
       "    <tr>\n",
       "      <th>min</th>\n",
       "      <td>0.120000</td>\n",
       "      <td>60.300000</td>\n",
       "      <td>0.800000</td>\n",
       "      <td>1.500000</td>\n",
       "    </tr>\n",
       "    <tr>\n",
       "      <th>25%</th>\n",
       "      <td>25.700000</td>\n",
       "      <td>71.810000</td>\n",
       "      <td>10.000000</td>\n",
       "      <td>3.200000</td>\n",
       "    </tr>\n",
       "    <tr>\n",
       "      <th>50%</th>\n",
       "      <td>31.210000</td>\n",
       "      <td>76.610000</td>\n",
       "      <td>15.000000</td>\n",
       "      <td>3.900000</td>\n",
       "    </tr>\n",
       "    <tr>\n",
       "      <th>75%</th>\n",
       "      <td>36.390000</td>\n",
       "      <td>92.515000</td>\n",
       "      <td>82.000000</td>\n",
       "      <td>4.300000</td>\n",
       "    </tr>\n",
       "    <tr>\n",
       "      <th>max</th>\n",
       "      <td>40.000000</td>\n",
       "      <td>99.960000</td>\n",
       "      <td>471.000000</td>\n",
       "      <td>7.000000</td>\n",
       "    </tr>\n",
       "  </tbody>\n",
       "</table>\n",
       "</div>"
      ],
      "text/plain": [
       "          Latitude    Longitude        Depth    Magnitude\n",
       "count  2719.000000  2719.000000  2719.000000  2719.000000\n",
       "mean     29.939433    80.905638    53.400478     3.772196\n",
       "std       7.361564    10.139075    68.239737     0.768076\n",
       "min       0.120000    60.300000     0.800000     1.500000\n",
       "25%      25.700000    71.810000    10.000000     3.200000\n",
       "50%      31.210000    76.610000    15.000000     3.900000\n",
       "75%      36.390000    92.515000    82.000000     4.300000\n",
       "max      40.000000    99.960000   471.000000     7.000000"
      ]
     },
     "execution_count": 6,
     "metadata": {},
     "output_type": "execute_result"
    }
   ],
   "source": [
    "data.describe()"
   ]
  },
  {
   "cell_type": "code",
   "execution_count": 7,
   "metadata": {},
   "outputs": [
    {
     "data": {
      "text/plain": [
       "<bound method DataFrame.info of       Latitude  Longitude  Depth  Magnitude\n",
       "0        29.06      77.42    5.0        2.5\n",
       "1        19.93      72.92    5.0        2.4\n",
       "2        31.50      74.37   33.0        3.4\n",
       "3        28.34      76.23    5.0        3.1\n",
       "4        27.09      89.97   10.0        2.1\n",
       "...        ...        ...    ...        ...\n",
       "2714     12.30      94.80   10.0        4.8\n",
       "2715     24.70      94.30   40.0        4.1\n",
       "2716     22.50      88.10   10.0        3.6\n",
       "2717     24.60      94.20   54.0        3.5\n",
       "2718     14.50      92.90   10.0        4.6\n",
       "\n",
       "[2719 rows x 4 columns]>"
      ]
     },
     "execution_count": 7,
     "metadata": {},
     "output_type": "execute_result"
    }
   ],
   "source": [
    "data.info"
   ]
  },
  {
   "cell_type": "code",
   "execution_count": 8,
   "metadata": {},
   "outputs": [
    {
     "data": {
      "image/png": "[encoded data removed]",
      "text/plain": [
       "<Figure size 640x480 with 4 Axes>"
      ]
     },
     "metadata": {},
     "output_type": "display_data"
    }
   ],
   "source": [
    "import matplotlib.pyplot as plt   \n",
    "\n",
    "%matplotlib inline                   \n",
    "c = data[['Latitude','Longitude','Depth','Magnitude']]\n",
    "c.hist()\n",
    "plt.show()"
   ]
  },
  {
   "cell_type": "code",
   "execution_count": 9,
   "metadata": {},
   "outputs": [
    {
     "name": "stdout",
     "output_type": "stream",
     "text": [
      "[[29.06 77.42  5.    2.5 ]\n",
      " [19.93 72.92  5.    2.4 ]\n",
      " [31.5  74.37 33.    3.4 ]\n",
      " ...\n",
      " [22.5  88.1  10.    3.6 ]\n",
      " [24.6  94.2  54.    3.5 ]\n",
      " [14.5  92.9  10.    4.6 ]]\n"
     ]
    }
   ],
   "source": [
    "data = np.array(data)\n",
    "print(data)\n",
    "X = data[:, 0:-1]\n",
    "y = data[:, -1]\n",
    "y = y.astype('int')\n",
    "X = X.astype('int')\n"
   ]
  },
  {
   "cell_type": "code",
   "execution_count": 10,
   "metadata": {},
   "outputs": [],
   "source": [
    "X_train, X_test, y_train, y_test = train_test_split(X, y, test_size=0.2, random_state=0)"
   ]
  },
  {
   "cell_type": "code",
   "execution_count": 11,
   "metadata": {},
   "outputs": [
    {
     "name": "stdout",
     "output_type": "stream",
     "text": [
      "X_train:\n",
      "[[ 22  94  10]\n",
      " [ 27  75   5]\n",
      " [ 34  76  10]\n",
      " ...\n",
      " [ 31  76   5]\n",
      " [ 23  70  10]\n",
      " [ 37  72 125]]\n",
      "\n",
      "y_train:\n",
      "[4 2 2 ... 3 4 4]\n"
     ]
    }
   ],
   "source": [
    "print(\"X_train:\")\n",
    "print(X_train)\n",
    "\n",
    "print(\"\\ny_train:\")\n",
    "print(y_train)\n"
   ]
  },
  {
   "cell_type": "code",
   "execution_count": 12,
   "metadata": {},
   "outputs": [
    {
     "data": {
      "text/plain": [
       "array([4, 2, 2, ..., 3, 4, 4])"
      ]
     },
     "execution_count": 12,
     "metadata": {},
     "output_type": "execute_result"
    }
   ],
   "source": [
    "# type casting.\n",
    "y_train=y_train.astype('int')\n",
    "y_train"
   ]
  },
  {
   "cell_type": "code",
   "execution_count": 13,
   "metadata": {},
   "outputs": [
    {
     "data": {
      "text/plain": [
       "array([4, 2, 2, 3, 2, 4, 2, 5, 4, 3, 4, 3, 4, 2, 4, 2, 3, 4, 4, 3, 4, 4,\n",
       "       4, 4, 3, 3, 4, 4, 4, 4, 4, 2, 4, 4, 3, 2, 4, 4, 5, 2, 4, 5, 2, 4,\n",
       "       2, 4, 3, 3, 4, 3, 3, 3, 4, 4, 3, 3, 3, 2, 2, 2, 4, 4, 2, 2, 4, 2,\n",
       "       3, 2, 4, 5, 3, 3, 4, 4, 3, 3, 4, 4, 2, 4, 4, 4, 2, 4, 2, 4, 3, 4,\n",
       "       4, 4, 4, 2, 4, 3, 3, 2, 3, 3, 2, 3, 3, 2, 3, 4, 5, 2, 3, 4, 4, 4,\n",
       "       4, 3, 3, 4, 4, 4, 4, 4, 4, 3, 3, 3, 1, 2, 3, 3, 4, 3, 3, 4, 2, 4,\n",
       "       4, 3, 3, 4, 4, 4, 4, 4, 4, 2, 4, 4, 3, 4, 3, 4, 4, 3, 3, 2, 4, 3,\n",
       "       5, 2, 4, 3, 3, 3, 4, 4, 2, 1, 2, 3, 6, 4, 4, 4, 2, 3, 4, 4, 3, 4,\n",
       "       2, 3, 2, 4, 4, 3, 4, 4, 2, 4, 4, 4, 3, 2, 4, 3, 2, 2, 2, 4, 3, 4,\n",
       "       6, 5, 2, 4, 3, 3, 3, 4, 4, 4, 5, 4, 4, 3, 3, 3, 3, 4, 4, 4, 4, 3,\n",
       "       4, 3, 4, 3, 4, 4, 2, 3, 3, 2, 3, 2, 4, 4, 3, 2, 4, 3, 4, 4, 2, 1,\n",
       "       3, 3, 3, 4, 4, 2, 3, 4, 4, 3, 5, 4, 3, 4, 4, 4, 4, 2, 4, 1, 3, 3,\n",
       "       2, 3, 3, 3, 2, 4, 3, 4, 4, 4, 4, 4, 2, 3, 4, 3, 3, 4, 3, 3, 4, 3,\n",
       "       3, 4, 3, 4, 2, 4, 3, 2, 4, 4, 5, 3, 3, 3, 3, 3, 4, 4, 3, 4, 4, 3,\n",
       "       4, 2, 4, 3, 5, 4, 2, 3, 4, 2, 3, 3, 3, 4, 4, 5, 2, 4, 4, 3, 4, 2,\n",
       "       5, 4, 4, 3, 4, 4, 4, 5, 3, 4, 4, 4, 4, 3, 4, 4, 4, 4, 3, 3, 4, 3,\n",
       "       3, 4, 4, 4, 4, 3, 4, 5, 4, 4, 3, 4, 5, 3, 4, 4, 4, 2, 5, 3, 3, 3,\n",
       "       3, 4, 4, 3, 4, 4, 3, 4, 4, 4, 4, 3, 4, 4, 3, 2, 4, 4, 4, 3, 3, 3,\n",
       "       4, 3, 3, 2, 4, 3, 2, 2, 3, 4, 2, 3, 4, 2, 5, 3, 1, 4, 3, 4, 3, 2,\n",
       "       4, 5, 4, 3, 4, 4, 2, 4, 3, 4, 3, 2, 2, 4, 4, 3, 4, 3, 2, 3, 3, 2,\n",
       "       4, 4, 2, 4, 3, 3, 2, 4, 5, 4, 2, 5, 4, 2, 4, 3, 4, 3, 2, 2, 4, 4,\n",
       "       2, 4, 3, 2, 2, 2, 4, 3, 2, 3, 4, 3, 2, 5, 3, 3, 3, 3, 2, 4, 4, 3,\n",
       "       3, 4, 3, 3, 4, 2, 3, 4, 3, 3, 5, 1, 2, 4, 4, 3, 2, 3, 3, 2, 4, 3,\n",
       "       3, 4, 3, 3, 4, 4, 3, 4, 4, 4, 3, 4, 4, 4, 3, 3, 4, 3, 2, 4, 4, 3,\n",
       "       3, 4, 4, 4, 3, 3, 3, 4, 5, 3, 4, 2, 5, 4, 4, 3])"
      ]
     },
     "execution_count": 13,
     "metadata": {},
     "output_type": "execute_result"
    }
   ],
   "source": [
    "y_test=y_test.astype('int')\n",
    "y_test"
   ]
  },
  {
   "cell_type": "markdown",
   "metadata": {},
   "source": [
    "## Using Prediction Algorithms:"
   ]
  },
  {
   "cell_type": "markdown",
   "metadata": {},
   "source": [
    "### Liner regression to predict"
   ]
  },
  {
   "cell_type": "code",
   "execution_count": 14,
   "metadata": {},
   "outputs": [
    {
     "name": "stdout",
     "output_type": "stream",
     "text": [
      "[[29.06 77.42  5.    2.5 ]\n",
      " [19.93 72.92  5.    2.4 ]\n",
      " [31.5  74.37 33.    3.4 ]\n",
      " ...\n",
      " [22.5  88.1  10.    3.6 ]\n",
      " [24.6  94.2  54.    3.5 ]\n",
      " [14.5  92.9  10.    4.6 ]]\n"
     ]
    }
   ],
   "source": [
    "import numpy as np\n",
    "import pandas as pd\n",
    "from sklearn.model_selection import train_test_split\n",
    "import pickle\n",
    "from sklearn import metrics\n",
    "from sklearn.ensemble import RandomForestClassifier\n",
    "\n",
    "\n",
    "data = pd.read_csv(\"../data/earthquake.csv\")\n",
    "\n",
    "data = np.array(data)\n",
    "print(data)\n",
    "X = data[:, 0:-1]\n",
    "y = data[:, -1]\n",
    "y = y.astype('int')\n",
    "X = X.astype('int')\n",
    "\n",
    "X_train, X_test, y_train, y_test = train_test_split(X, y, test_size=0.2, random_state=0)"
   ]
  },
  {
   "cell_type": "code",
   "execution_count": 15,
   "metadata": {},
   "outputs": [
    {
     "name": "stdout",
     "output_type": "stream",
     "text": [
      "0.5551470588235294\n"
     ]
    }
   ],
   "source": [
    "#  print(X_train,y_train)\n",
    "rfc = RandomForestClassifier()\n",
    "rfc.fit(X_train, y_train)\n",
    "y_pred = rfc.predict(X_test)\n",
    "\n",
    "print(metrics.accuracy_score(y_test, y_pred))"
   ]
  },
  {
   "cell_type": "code",
   "execution_count": 16,
   "metadata": {},
   "outputs": [
    {
     "name": "stdout",
     "output_type": "stream",
     "text": [
      "0.5588235294117647\n"
     ]
    }
   ],
   "source": [
    "from sklearn.tree import DecisionTreeClassifier\n",
    "\n",
    "dtc = DecisionTreeClassifier()\n",
    "dtc.fit(X_train, y_train)\n",
    "\n",
    "y_pred_dtc = dtc.predict(X_test)\n",
    "print(metrics.accuracy_score(y_test, y_pred_dtc))\n"
   ]
  },
  {
   "cell_type": "code",
   "execution_count": 17,
   "metadata": {},
   "outputs": [
    {
     "name": "stdout",
     "output_type": "stream",
     "text": [
      "0.48161764705882354\n"
     ]
    }
   ],
   "source": [
    "from sklearn.svm import SVC\n",
    "\n",
    "svm_classifier = SVC()\n",
    "svm_classifier.fit(X_train, y_train)\n",
    "\n",
    "y_pred_svm = svm_classifier.predict(X_test)\n",
    "print(metrics.accuracy_score(y_test, y_pred_svm))\n"
   ]
  },
  {
   "cell_type": "code",
   "execution_count": 18,
   "metadata": {},
   "outputs": [
    {
     "name": "stdout",
     "output_type": "stream",
     "text": [
      "0.5238970588235294\n"
     ]
    }
   ],
   "source": [
    "from sklearn.neighbors import KNeighborsClassifier\n",
    "\n",
    "knn_classifier = KNeighborsClassifier()\n",
    "knn_classifier.fit(X_train, y_train)\n",
    "\n",
    "y_pred_knn = knn_classifier.predict(X_test)\n",
    "print(metrics.accuracy_score(y_test, y_pred_knn))\n"
   ]
  },
  {
   "cell_type": "code",
   "execution_count": 19,
   "metadata": {},
   "outputs": [
    {
     "name": "stdout",
     "output_type": "stream",
     "text": [
      "0.5827205882352942\n"
     ]
    }
   ],
   "source": [
    "from sklearn.ensemble import GradientBoostingClassifier\n",
    "\n",
    "gb_classifier = GradientBoostingClassifier()\n",
    "gb_classifier.fit(X_train, y_train)\n",
    "\n",
    "y_pred_gb = gb_classifier.predict(X_test)\n",
    "print(metrics.accuracy_score(y_test, y_pred_gb))\n"
   ]
  },
  {
   "cell_type": "code",
   "execution_count": 20,
   "metadata": {},
   "outputs": [
    {
     "name": "stderr",
     "output_type": "stream",
     "text": [
      "e:\\final year projects\\disaster\\lib\\site-packages\\sklearn\\linear_model\\_logistic.py:460: ConvergenceWarning: lbfgs failed to converge (status=1):\n",
      "STOP: TOTAL NO. of ITERATIONS REACHED LIMIT.\n",
      "\n",
      "Increase the number of iterations (max_iter) or scale the data as shown in:\n",
      "    https://scikit-learn.org/stable/modules/preprocessing.html\n",
      "Please also refer to the documentation for alternative solver options:\n",
      "    https://scikit-learn.org/stable/modules/linear_model.html#logistic-regression\n",
      "  n_iter_i = _check_optimize_result(\n"
     ]
    },
    {
     "name": "stdout",
     "output_type": "stream",
     "text": [
      "  Model  Accuracy\n",
      "0   KNN  0.523897\n",
      "1    LR  0.474265\n",
      "2   SVC  0.481618\n",
      "3    DT  0.558824\n",
      "4    RF  0.569853\n",
      "5    GB  0.580882\n"
     ]
    }
   ],
   "source": [
    "import numpy as np\n",
    "import pandas as pd\n",
    "from sklearn.model_selection import train_test_split\n",
    "from sklearn.metrics import accuracy_score\n",
    "from sklearn.neighbors import KNeighborsClassifier\n",
    "from sklearn.svm import SVC\n",
    "from sklearn.linear_model import LogisticRegression\n",
    "from sklearn.tree import DecisionTreeClassifier\n",
    "from sklearn.ensemble import RandomForestClassifier\n",
    "from sklearn.ensemble import GradientBoostingClassifier\n",
    "\n",
    "models = []\n",
    "models.append(('KNN', KNeighborsClassifier()))\n",
    "models.append(('LR', LogisticRegression()))\n",
    "models.append(('SVC', SVC()))\n",
    "models.append(('DT', DecisionTreeClassifier()))\n",
    "models.append(('RF', RandomForestClassifier()))\n",
    "models.append(('GB', GradientBoostingClassifier()))\n",
    "\n",
    "# Evaluate models\n",
    "names = []\n",
    "scores = []\n",
    "for name, model in models:\n",
    "    model.fit(X_train, y_train)\n",
    "    y_pred = model.predict(X_test)\n",
    "    scores.append(accuracy_score(y_test, y_pred))\n",
    "    names.append(name)\n",
    "\n",
    "# Create a DataFrame to display the results\n",
    "result_df = pd.DataFrame({'Model': names, 'Accuracy': scores})\n",
    "print(result_df)"
   ]
  },
  {
   "cell_type": "code",
   "execution_count": 24,
   "metadata": {},
   "outputs": [
    {
     "data": {
      "image/png": "[encoded data removed]",
      "text/plain": [
       "<Figure size 1000x600 with 1 Axes>"
      ]
     },
     "metadata": {},
     "output_type": "display_data"
    }
   ],
   "source": [
    "import seaborn as sns\n",
    "import matplotlib.pyplot as plt\n",
    "\n",
    "# Set the style for the seaborn plot (optional)\n",
    "sns.set(style=\"whitegrid\")\n",
    "\n",
    "# Create a bar plot using seaborn\n",
    "plt.figure(figsize=(10, 6))\n",
    "sns.barplot(x='Model', y='Accuracy', data=result_df)\n",
    "plt.title('Model Accuracy Comparison')\n",
    "plt.xlabel('Model')\n",
    "plt.ylabel('Accuracy')\n",
    "plt.ylim([0, 1])  # Set y-axis limits to be between 0 and 1 for accuracy percentage\n",
    "plt.show()\n"
   ]
  },
  {
   "cell_type": "code",
   "execution_count": null,
   "metadata": {},
   "outputs": [
    {
     "name": "stderr",
     "output_type": "stream",
     "text": [
      "e:\\final year projects\\disaster\\lib\\site-packages\\sklearn\\linear_model\\_logistic.py:460: ConvergenceWarning: lbfgs failed to converge (status=1):\n",
      "STOP: TOTAL NO. of ITERATIONS REACHED LIMIT.\n",
      "\n",
      "Increase the number of iterations (max_iter) or scale the data as shown in:\n",
      "    https://scikit-learn.org/stable/modules/preprocessing.html\n",
      "Please also refer to the documentation for alternative solver options:\n",
      "    https://scikit-learn.org/stable/modules/linear_model.html#logistic-regression\n",
      "  n_iter_i = _check_optimize_result(\n"
     ]
    }
   ],
   "source": [
    "import pickle\n",
    "\n",
    "# Trained models\n",
    "knn_model = KNeighborsClassifier()\n",
    "lr_model = LogisticRegression()\n",
    "svc_model = SVC()\n",
    "dtc_model = DecisionTreeClassifier()\n",
    "rmf_model = RandomForestClassifier()\n",
    "\n",
    "# Fit models on the training data\n",
    "knn_model.fit(X_train, y_train)\n",
    "lr_model.fit(X_train, y_train)\n",
    "svc_model.fit(X_train, y_train)\n",
    "dtc_model.fit(X_train, y_train)\n",
    "rmf_model.fit(X_train, y_train)\n",
    "\n",
    "# Save models to pickle file\n",
    "with open('earthquake_models.pkl', 'wb') as file:\n",
    "    pickle.dump({\n",
    "        'KNN': knn_model,\n",
    "        'LogisticRegression': lr_model,\n",
    "        'SVC': svc_model,\n",
    "        'DecisionTree': dtc_model,\n",
    "        'RandomForest': rmf_model\n",
    "    }, file)\n"
   ]
  },
  {
   "cell_type": "code",
   "execution_count": null,
   "metadata": {},
   "outputs": [
    {
     "name": "stdout",
     "output_type": "stream",
     "text": [
      "[3]\n",
      "[3]\n",
      "[3]\n",
      "[2]\n",
      "[3]\n"
     ]
    }
   ],
   "source": [
    "import pickle\n",
    "\n",
    "# Load models from pickle file\n",
    "with open('earthquake_models.pkl', 'rb') as file:\n",
    "    loaded_models = pickle.load(file)\n",
    "\n",
    "# Access individual models\n",
    "loaded_knn_model = loaded_models['KNN']\n",
    "loaded_lr_model = loaded_models['LogisticRegression']\n",
    "loaded_svc_model = loaded_models['SVC']\n",
    "loaded_dtc_model = loaded_models['DecisionTree']\n",
    "loaded_rmf_model = loaded_models['RandomForest']\n",
    "\n",
    "# Now you can use these loaded models for predictions or further analysis\n",
    "# For example:\n",
    "x_new_data = np.array([27.9,94.2,10]).reshape(1, -1)  # Your new data for prediction\n",
    "\n",
    "knn_predictions = loaded_knn_model.predict(x_new_data)\n",
    "lr_predictions = loaded_lr_model.predict(x_new_data)\n",
    "svc_predictions = loaded_svc_model.predict(x_new_data)\n",
    "dtc_predictions = loaded_dtc_model.predict(x_new_data)\n",
    "rmf_predictions = loaded_rmf_model.predict(x_new_data)\n",
    "\n",
    "print(knn_predictions)\n",
    "print(lr_predictions)\n",
    "print(svc_predictions)\n",
    "print(dtc_predictions)\n",
    "print(rmf_predictions)\n"
   ]
  }
 ],
 "metadata": {
  "kernelspec": {
   "display_name": "disaster",
   "language": "python",
   "name": "python3"
  },
  "language_info": {
   "codemirror_mode": {
    "name": "ipython",
    "version": 3
   },
   "file_extension": ".py",
   "mimetype": "text/x-python",
   "name": "python",
   "nbconvert_exporter": "python",
   "pygments_lexer": "ipython3",
   "version": "3.9.13"
  }
 },
 "nbformat": 4,
 "nbformat_minor": 2
}
